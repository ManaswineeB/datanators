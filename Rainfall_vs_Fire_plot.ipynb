{
 "cells": [
  {
   "cell_type": "code",
   "execution_count": 5,
   "id": "f7bf5956",
   "metadata": {},
   "outputs": [],
   "source": [
    "import pandas as pd\n",
    "import numpy as np\n",
    "import matplotlib.pyplot as plt\n",
    "from bs4 import BeautifulSoup\n",
    "import requests"
   ]
  },
  {
   "cell_type": "code",
   "execution_count": 3,
   "id": "3eb58ca0",
   "metadata": {},
   "outputs": [
    {
     "name": "stderr",
     "output_type": "stream",
     "text": [
      "/var/folders/dx/sc89948n7r9d_y3ms23yc8c40000gn/T/ipykernel_14553/3642120065.py:1: DtypeWarning: Columns (7,8,17,35,64,67,88,89,93,94) have mixed types. Specify dtype option on import or set low_memory=False.\n",
      "  df = pd.read_csv('Wildland_Fire_Incident_Locations.csv')\n"
     ]
    }
   ],
   "source": [
    "df = pd.read_csv('Wildland_Fire_Incident_Locations.csv')"
   ]
  },
  {
   "cell_type": "code",
   "execution_count": 59,
   "id": "f83bc867",
   "metadata": {},
   "outputs": [],
   "source": [
    "url = \"https://etweather.tamu.edu/rainhistory/\"\n",
    "headers = headers = {'User-Agent': 'Mozilla/5.0 (Macintosh; Intel Mac OS X 10_11_5) AppleWebKit/537.36 (KHTML, like Gecko) Chrome/50.0.2661.102 Safari/537.36'}\n",
    "req = requests.get(url, headers= headers).text\n",
    "soup = BeautifulSoup(req,'html.parser')\n"
   ]
  },
  {
   "cell_type": "code",
   "execution_count": 62,
   "id": "49ff750c",
   "metadata": {},
   "outputs": [],
   "source": [
    "table = soup.find_all(\"table\")[0]\n",
    "rows = table.find_all('tr')[1:]\n",
    "years = []\n",
    "rainfall = []\n",
    "for row in rows[:7]:\n",
    "    years.append(int(row.find_all(\"td\")[0].text))\n",
    "    rainfall.append(float(row.find_all(\"td\")[-1].text))"
   ]
  },
  {
   "cell_type": "code",
   "execution_count": 65,
   "id": "f000c6c0",
   "metadata": {},
   "outputs": [
    {
     "data": {
      "text/html": [
       "<div>\n",
       "<style scoped>\n",
       "    .dataframe tbody tr th:only-of-type {\n",
       "        vertical-align: middle;\n",
       "    }\n",
       "\n",
       "    .dataframe tbody tr th {\n",
       "        vertical-align: top;\n",
       "    }\n",
       "\n",
       "    .dataframe thead th {\n",
       "        text-align: right;\n",
       "    }\n",
       "</style>\n",
       "<table border=\"1\" class=\"dataframe\">\n",
       "  <thead>\n",
       "    <tr style=\"text-align: right;\">\n",
       "      <th></th>\n",
       "      <th>Year</th>\n",
       "      <th>Rainfall</th>\n",
       "    </tr>\n",
       "  </thead>\n",
       "  <tbody>\n",
       "    <tr>\n",
       "      <th>0</th>\n",
       "      <td>2021</td>\n",
       "      <td>46.81</td>\n",
       "    </tr>\n",
       "    <tr>\n",
       "      <th>1</th>\n",
       "      <td>2020</td>\n",
       "      <td>52.60</td>\n",
       "    </tr>\n",
       "    <tr>\n",
       "      <th>2</th>\n",
       "      <td>2019</td>\n",
       "      <td>45.93</td>\n",
       "    </tr>\n",
       "    <tr>\n",
       "      <th>3</th>\n",
       "      <td>2018</td>\n",
       "      <td>58.65</td>\n",
       "    </tr>\n",
       "    <tr>\n",
       "      <th>4</th>\n",
       "      <td>2017</td>\n",
       "      <td>48.69</td>\n",
       "    </tr>\n",
       "    <tr>\n",
       "      <th>5</th>\n",
       "      <td>2016</td>\n",
       "      <td>56.68</td>\n",
       "    </tr>\n",
       "    <tr>\n",
       "      <th>6</th>\n",
       "      <td>2015</td>\n",
       "      <td>77.37</td>\n",
       "    </tr>\n",
       "  </tbody>\n",
       "</table>\n",
       "</div>"
      ],
      "text/plain": [
       "   Year  Rainfall\n",
       "0  2021     46.81\n",
       "1  2020     52.60\n",
       "2  2019     45.93\n",
       "3  2018     58.65\n",
       "4  2017     48.69\n",
       "5  2016     56.68\n",
       "6  2015     77.37"
      ]
     },
     "execution_count": 65,
     "metadata": {},
     "output_type": "execute_result"
    }
   ],
   "source": [
    "rain_TX = pd.DataFrame(zip(years,rainfall), columns=['Year', 'Rainfall'])\n",
    "rain_TX"
   ]
  },
  {
   "cell_type": "code",
   "execution_count": 68,
   "id": "cffb5592",
   "metadata": {},
   "outputs": [],
   "source": [
    "columns = list(df.columns)\n",
    "redcols = []\n",
    "for i in columns:\n",
    "    m = df[i].isna().sum()\n",
    "    #print(i, '                ', m)\n",
    "    if m >0.5*df.shape[0]:\n",
    "        redcols.append(i)"
   ]
  },
  {
   "cell_type": "code",
   "execution_count": 69,
   "id": "1329b52e",
   "metadata": {},
   "outputs": [
    {
     "data": {
      "text/plain": [
       "Index(['X', 'Y', 'OBJECTID', 'SourceOID', 'ADSPermissionState',\n",
       "       'ContainmentDateTime', 'ControlDateTime', 'CreatedBySystem',\n",
       "       'IncidentSize', 'DiscoveryAcres', 'DispatchCenterID', 'FireCause',\n",
       "       'FireCode', 'FireDiscoveryDateTime', 'FireOutDateTime', 'GACC',\n",
       "       'IncidentName', 'IncidentTypeCategory', 'IncidentTypeKind',\n",
       "       'InitialLatitude', 'InitialLongitude', 'IrwinID', 'IsFireCodeRequested',\n",
       "       'IsFSAssisted', 'IsMultiJurisdictional', 'IsReimbursable', 'IsTrespass',\n",
       "       'LocalIncidentIdentifier', 'POOCounty', 'POODispatchCenterID',\n",
       "       'POOFips', 'POOJurisdictionalUnit', 'POOLandownerCategory',\n",
       "       'POOLandownerKind', 'POOPredictiveServiceAreaID', 'POOProtectingAgency',\n",
       "       'POOProtectingUnit', 'POOState', 'UniqueFireIdentifier',\n",
       "       'WFDSSDecisionStatus', 'CreatedOnDateTime_dt', 'ModifiedOnDateTime_dt',\n",
       "       'IsCpxChild', 'SourceGlobalID', 'GlobalID'],\n",
       "      dtype='object')"
      ]
     },
     "execution_count": 69,
     "metadata": {},
     "output_type": "execute_result"
    }
   ],
   "source": [
    "df.drop(columns = redcols, inplace=True)\n",
    "df.columns"
   ]
  },
  {
   "cell_type": "code",
   "execution_count": 126,
   "id": "1ff7ffe7",
   "metadata": {},
   "outputs": [
    {
     "name": "stderr",
     "output_type": "stream",
     "text": [
      "/var/folders/dx/sc89948n7r9d_y3ms23yc8c40000gn/T/ipykernel_14553/720065638.py:2: SettingWithCopyWarning: \n",
      "A value is trying to be set on a copy of a slice from a DataFrame.\n",
      "Try using .loc[row_indexer,col_indexer] = value instead\n",
      "\n",
      "See the caveats in the documentation: https://pandas.pydata.org/pandas-docs/stable/user_guide/indexing.html#returning-a-view-versus-a-copy\n",
      "  df_TX['FireDiscoveryDateTime'] = pd.to_datetime(df_TX['FireDiscoveryDateTime'])\n",
      "/var/folders/dx/sc89948n7r9d_y3ms23yc8c40000gn/T/ipykernel_14553/720065638.py:3: SettingWithCopyWarning: \n",
      "A value is trying to be set on a copy of a slice from a DataFrame.\n",
      "Try using .loc[row_indexer,col_indexer] = value instead\n",
      "\n",
      "See the caveats in the documentation: https://pandas.pydata.org/pandas-docs/stable/user_guide/indexing.html#returning-a-view-versus-a-copy\n",
      "  df_TX['FireYear'] = pd.DatetimeIndex(df_TX.FireDiscoveryDateTime).year\n",
      "/var/folders/dx/sc89948n7r9d_y3ms23yc8c40000gn/T/ipykernel_14553/720065638.py:4: SettingWithCopyWarning: \n",
      "A value is trying to be set on a copy of a slice from a DataFrame.\n",
      "Try using .loc[row_indexer,col_indexer] = value instead\n",
      "\n",
      "See the caveats in the documentation: https://pandas.pydata.org/pandas-docs/stable/user_guide/indexing.html#returning-a-view-versus-a-copy\n",
      "  df_TX['FireMonth'] = pd.DatetimeIndex(df_TX.FireDiscoveryDateTime).month\n"
     ]
    }
   ],
   "source": [
    "df_TX = df[df.POOState == 'US-TX']\n",
    "df_TX['FireDiscoveryDateTime'] = pd.to_datetime(df_TX['FireDiscoveryDateTime'])\n",
    "df_TX['FireYear'] = pd.DatetimeIndex(df_TX.FireDiscoveryDateTime).year\n",
    "df_TX['FireMonth'] = pd.DatetimeIndex(df_TX.FireDiscoveryDateTime).month\n",
    "df_TX = df_TX[df_TX.FireYear>=2015]"
   ]
  },
  {
   "cell_type": "code",
   "execution_count": 89,
   "id": "7a106b7e",
   "metadata": {},
   "outputs": [
    {
     "data": {
      "text/plain": [
       "array([183371.985, 338940.58 , 157860.24 , 423590.41 , 644969.57 ,\n",
       "       174027.64 , 129505.15 ])"
      ]
     },
     "execution_count": 89,
     "metadata": {},
     "output_type": "execute_result"
    }
   ],
   "source": [
    "AreaBurned = df_TX.groupby('FireYear').sum().IncidentSize.values[:-2]\n",
    "AreaBurned = AreaBurned[::-1]\n",
    "AreaBurned"
   ]
  },
  {
   "cell_type": "code",
   "execution_count": 84,
   "id": "6e2cecd0",
   "metadata": {},
   "outputs": [
    {
     "data": {
      "text/plain": [
       "FireYear\n",
       "2015    129505.150\n",
       "2016    174027.640\n",
       "2017    644969.570\n",
       "2018    423590.410\n",
       "2019    157860.240\n",
       "2020    338940.580\n",
       "2021    183371.985\n",
       "2022    737767.200\n",
       "2023     39849.250\n",
       "Name: IncidentSize, dtype: float64"
      ]
     },
     "execution_count": 84,
     "metadata": {},
     "output_type": "execute_result"
    }
   ],
   "source": [
    "df_TX.groupby('FireYear').sum().IncidentSize"
   ]
  },
  {
   "cell_type": "code",
   "execution_count": 104,
   "id": "8ce5b94a",
   "metadata": {},
   "outputs": [],
   "source": [
    "rain_TX['AreaBurned'] = AreaBurned\n",
    "rain_TX['Rainfall'] = (rain_TX.Rainfall-47.06)"
   ]
  },
  {
   "cell_type": "code",
   "execution_count": 125,
   "id": "87547cbc",
   "metadata": {},
   "outputs": [
    {
     "data": {
      "image/png": "[encoded data removed]",
      "text/plain": [
       "<Figure size 640x480 with 1 Axes>"
      ]
     },
     "metadata": {},
     "output_type": "display_data"
    }
   ],
   "source": [
    "fig = plt.figure()\n",
    "ax = fig.subplots()\n",
    "rain_TX.plot.bar(x='Year', y = ['Rainfall', 'AreaBurned'], ax = ax)\n",
    "ax.set_yticks = False\n",
    "fig.savefig('Rain_vs_Burn.png')"
   ]
  },
  {
   "cell_type": "code",
   "execution_count": 117,
   "id": "8b024403",
   "metadata": {},
   "outputs": [],
   "source": [
    "rain_TX['Rainfall'] *= 4"
   ]
  },
  {
   "cell_type": "code",
   "execution_count": 109,
   "id": "4ff10cd9",
   "metadata": {},
   "outputs": [
    {
     "data": {
      "text/plain": [
       "<AxesSubplot: xlabel='Year', ylabel='Rainfall'>"
      ]
     },
     "execution_count": 109,
     "metadata": {},
     "output_type": "execute_result"
    },
    {
     "data": {
      "image/png": "[encoded data removed]",
      "text/plain": [
       "<Figure size 640x480 with 1 Axes>"
      ]
     },
     "metadata": {},
     "output_type": "display_data"
    }
   ],
   "source": [
    "sns.barplot(data = rain_TX, y =  'Rainfall', x = 'Year')"
   ]
  },
  {
   "cell_type": "code",
   "execution_count": 129,
   "id": "fd1eed4c",
   "metadata": {},
   "outputs": [
    {
     "data": {
      "text/plain": [
       "8     1225\n",
       "7     1049\n",
       "3     1041\n",
       "10     922\n",
       "1      793\n",
       "2      776\n",
       "9      724\n",
       "6      538\n",
       "4      491\n",
       "11     416\n",
       "12     341\n",
       "5      325\n",
       "Name: FireMonth, dtype: int64"
      ]
     },
     "execution_count": 129,
     "metadata": {},
     "output_type": "execute_result"
    }
   ],
   "source": [
    "df_TX.FireMonth.value_counts()"
   ]
  },
  {
   "cell_type": "code",
   "execution_count": null,
   "id": "9e148e91",
   "metadata": {},
   "outputs": [],
   "source": []
  }
 ],
 "metadata": {
  "kernelspec": {
   "display_name": "Python 3 (ipykernel)",
   "language": "python",
   "name": "python3"
  },
  "language_info": {
   "codemirror_mode": {
    "name": "ipython",
    "version": 3
   },
   "file_extension": ".py",
   "mimetype": "text/x-python",
   "name": "python",
   "nbconvert_exporter": "python",
   "pygments_lexer": "ipython3",
   "version": "3.9.12"
  }
 },
 "nbformat": 4,
 "nbformat_minor": 5
}
