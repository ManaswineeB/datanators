{
  "nbformat": 4,
  "nbformat_minor": 0,
  "metadata": {
    "colab": {
      "provenance": []
    },
    "kernelspec": {
      "name": "python3",
      "display_name": "Python 3"
    },
    "language_info": {
      "name": "python"
    }
  },
  "cells": [
    {
      "cell_type": "code",
      "execution_count": 4,
      "metadata": {
        "id": "lY2fvIAoZcS6"
      },
      "outputs": [],
      "source": [
        "\n",
        "import pandas as pd\n",
        "import numpy as np\n",
        "import matplotlib.pyplot as plt\n",
        "import datetime\n",
        "import math\n",
        "try:\n",
        "  import plotly.express as px\n",
        "except:\n",
        "  %pip install plotly\n",
        "  import plotly.express as px\n"
      ]
    },
    {
      "cell_type": "markdown",
      "source": [
        "##Importing the file"
      ],
      "metadata": {
        "id": "O75zYS64ZqC0"
      }
    },
    {
      "cell_type": "code",
      "source": [
        "big_df = pd.read_csv('/content/drive/Shareddrives/Datanators/Data/Processed_Data/big_df.csv').iloc[:,1:].drop(columns = ['Geo Point'])\n",
        "#Make FIPS uniform with 5 numbers\n",
        "big_df['POOFips'] = big_df['POOFips'].apply(lambda x:'0'+str(int(x)) if int(x)<10000 else str(int(x)))"
      ],
      "metadata": {
        "id": "x67DcomlZjiT"
      },
      "execution_count": 56,
      "outputs": []
    },
    {
      "cell_type": "code",
      "source": [
        "big_df.head()"
      ],
      "metadata": {
        "colab": {
          "base_uri": "https://localhost:8080/",
          "height": 270
        },
        "id": "oC0KDwQUZoJB",
        "outputId": "7892d582-3fcf-41bd-dc8b-9b0e7ad42027"
      },
      "execution_count": 6,
      "outputs": [
        {
          "output_type": "execute_result",
          "data": {
            "text/plain": [
              "           X          Y  DiscoveryAcres FireCause POOFips POOState  \\\n",
              "0 -87.348925  34.101946             0.1     Human   01133    US-AL   \n",
              "1 -87.367355  34.314726             1.0     Human   01079    US-AL   \n",
              "2 -85.402504  32.654173           179.0   Unknown   01081    US-AL   \n",
              "3 -85.892422  33.395450             0.1     Human   01027    US-AL   \n",
              "4 -87.184715  32.823056             5.0     Human   01105    US-AL   \n",
              "\n",
              "   StartMonth  StartYear  Temp  Rainfall  Max_Temp  Total_Month        ALAND  \\\n",
              "0          10       2022  58.5      3.33      72.6          0.0  1587.614057   \n",
              "1           1       2021  42.2      2.89      51.7          0.0  1788.864251   \n",
              "2          11       2022  55.0      6.49      67.0          NaN  1573.514768   \n",
              "3          10       2019  66.0      5.96      77.2          0.0  1564.251834   \n",
              "4          10       2022  60.8      3.42      75.1          1.0  1863.900621   \n",
              "\n",
              "      AWATER  Geo_X  Geo_Y  POP_2019  POP_2020  POP_2021  POP_2022  \n",
              "0  48.917203  34.15 -87.37   23689.0   23698.0   23491.0   23652.0  \n",
              "1  68.682382  34.52 -87.31   33089.0   33055.0   33063.0   33090.0  \n",
              "2  21.526461  32.60 -85.36  170423.0  172030.0  174601.0  177218.0  \n",
              "3   5.285207  33.27 -85.86   14184.0   14256.0   14193.0   14190.0  \n",
              "4  10.937769  32.64 -87.29    8856.0    8727.0    8452.0    8355.0  "
            ],
            "text/html": [
              "\n",
              "  <div id=\"df-924aa319-7fe2-4fd3-95dc-9fab717e9559\">\n",
              "    <div class=\"colab-df-container\">\n",
              "      <div>\n",
              "<style scoped>\n",
              "    .dataframe tbody tr th:only-of-type {\n",
              "        vertical-align: middle;\n",
              "    }\n",
              "\n",
              "    .dataframe tbody tr th {\n",
              "        vertical-align: top;\n",
              "    }\n",
              "\n",
              "    .dataframe thead th {\n",
              "        text-align: right;\n",
              "    }\n",
              "</style>\n",
              "<table border=\"1\" class=\"dataframe\">\n",
              "  <thead>\n",
              "    <tr style=\"text-align: right;\">\n",
              "      <th></th>\n",
              "      <th>X</th>\n",
              "      <th>Y</th>\n",
              "      <th>DiscoveryAcres</th>\n",
              "      <th>FireCause</th>\n",
              "      <th>POOFips</th>\n",
              "      <th>POOState</th>\n",
              "      <th>StartMonth</th>\n",
              "      <th>StartYear</th>\n",
              "      <th>Temp</th>\n",
              "      <th>Rainfall</th>\n",
              "      <th>Max_Temp</th>\n",
              "      <th>Total_Month</th>\n",
              "      <th>ALAND</th>\n",
              "      <th>AWATER</th>\n",
              "      <th>Geo_X</th>\n",
              "      <th>Geo_Y</th>\n",
              "      <th>POP_2019</th>\n",
              "      <th>POP_2020</th>\n",
              "      <th>POP_2021</th>\n",
              "      <th>POP_2022</th>\n",
              "    </tr>\n",
              "  </thead>\n",
              "  <tbody>\n",
              "    <tr>\n",
              "      <th>0</th>\n",
              "      <td>-87.348925</td>\n",
              "      <td>34.101946</td>\n",
              "      <td>0.1</td>\n",
              "      <td>Human</td>\n",
              "      <td>01133</td>\n",
              "      <td>US-AL</td>\n",
              "      <td>10</td>\n",
              "      <td>2022</td>\n",
              "      <td>58.5</td>\n",
              "      <td>3.33</td>\n",
              "      <td>72.6</td>\n",
              "      <td>0.0</td>\n",
              "      <td>1587.614057</td>\n",
              "      <td>48.917203</td>\n",
              "      <td>34.15</td>\n",
              "      <td>-87.37</td>\n",
              "      <td>23689.0</td>\n",
              "      <td>23698.0</td>\n",
              "      <td>23491.0</td>\n",
              "      <td>23652.0</td>\n",
              "    </tr>\n",
              "    <tr>\n",
              "      <th>1</th>\n",
              "      <td>-87.367355</td>\n",
              "      <td>34.314726</td>\n",
              "      <td>1.0</td>\n",
              "      <td>Human</td>\n",
              "      <td>01079</td>\n",
              "      <td>US-AL</td>\n",
              "      <td>1</td>\n",
              "      <td>2021</td>\n",
              "      <td>42.2</td>\n",
              "      <td>2.89</td>\n",
              "      <td>51.7</td>\n",
              "      <td>0.0</td>\n",
              "      <td>1788.864251</td>\n",
              "      <td>68.682382</td>\n",
              "      <td>34.52</td>\n",
              "      <td>-87.31</td>\n",
              "      <td>33089.0</td>\n",
              "      <td>33055.0</td>\n",
              "      <td>33063.0</td>\n",
              "      <td>33090.0</td>\n",
              "    </tr>\n",
              "    <tr>\n",
              "      <th>2</th>\n",
              "      <td>-85.402504</td>\n",
              "      <td>32.654173</td>\n",
              "      <td>179.0</td>\n",
              "      <td>Unknown</td>\n",
              "      <td>01081</td>\n",
              "      <td>US-AL</td>\n",
              "      <td>11</td>\n",
              "      <td>2022</td>\n",
              "      <td>55.0</td>\n",
              "      <td>6.49</td>\n",
              "      <td>67.0</td>\n",
              "      <td>NaN</td>\n",
              "      <td>1573.514768</td>\n",
              "      <td>21.526461</td>\n",
              "      <td>32.60</td>\n",
              "      <td>-85.36</td>\n",
              "      <td>170423.0</td>\n",
              "      <td>172030.0</td>\n",
              "      <td>174601.0</td>\n",
              "      <td>177218.0</td>\n",
              "    </tr>\n",
              "    <tr>\n",
              "      <th>3</th>\n",
              "      <td>-85.892422</td>\n",
              "      <td>33.395450</td>\n",
              "      <td>0.1</td>\n",
              "      <td>Human</td>\n",
              "      <td>01027</td>\n",
              "      <td>US-AL</td>\n",
              "      <td>10</td>\n",
              "      <td>2019</td>\n",
              "      <td>66.0</td>\n",
              "      <td>5.96</td>\n",
              "      <td>77.2</td>\n",
              "      <td>0.0</td>\n",
              "      <td>1564.251834</td>\n",
              "      <td>5.285207</td>\n",
              "      <td>33.27</td>\n",
              "      <td>-85.86</td>\n",
              "      <td>14184.0</td>\n",
              "      <td>14256.0</td>\n",
              "      <td>14193.0</td>\n",
              "      <td>14190.0</td>\n",
              "    </tr>\n",
              "    <tr>\n",
              "      <th>4</th>\n",
              "      <td>-87.184715</td>\n",
              "      <td>32.823056</td>\n",
              "      <td>5.0</td>\n",
              "      <td>Human</td>\n",
              "      <td>01105</td>\n",
              "      <td>US-AL</td>\n",
              "      <td>10</td>\n",
              "      <td>2022</td>\n",
              "      <td>60.8</td>\n",
              "      <td>3.42</td>\n",
              "      <td>75.1</td>\n",
              "      <td>1.0</td>\n",
              "      <td>1863.900621</td>\n",
              "      <td>10.937769</td>\n",
              "      <td>32.64</td>\n",
              "      <td>-87.29</td>\n",
              "      <td>8856.0</td>\n",
              "      <td>8727.0</td>\n",
              "      <td>8452.0</td>\n",
              "      <td>8355.0</td>\n",
              "    </tr>\n",
              "  </tbody>\n",
              "</table>\n",
              "</div>\n",
              "      <button class=\"colab-df-convert\" onclick=\"convertToInteractive('df-924aa319-7fe2-4fd3-95dc-9fab717e9559')\"\n",
              "              title=\"Convert this dataframe to an interactive table.\"\n",
              "              style=\"display:none;\">\n",
              "        \n",
              "  <svg xmlns=\"http://www.w3.org/2000/svg\" height=\"24px\"viewBox=\"0 0 24 24\"\n",
              "       width=\"24px\">\n",
              "    <path d=\"M0 0h24v24H0V0z\" fill=\"none\"/>\n",
              "    <path d=\"M18.56 5.44l.94 2.06.94-2.06 2.06-.94-2.06-.94-.94-2.06-.94 2.06-2.06.94zm-11 1L8.5 8.5l.94-2.06 2.06-.94-2.06-.94L8.5 2.5l-.94 2.06-2.06.94zm10 10l.94 2.06.94-2.06 2.06-.94-2.06-.94-.94-2.06-.94 2.06-2.06.94z\"/><path d=\"M17.41 7.96l-1.37-1.37c-.4-.4-.92-.59-1.43-.59-.52 0-1.04.2-1.43.59L10.3 9.45l-7.72 7.72c-.78.78-.78 2.05 0 2.83L4 21.41c.39.39.9.59 1.41.59.51 0 1.02-.2 1.41-.59l7.78-7.78 2.81-2.81c.8-.78.8-2.07 0-2.86zM5.41 20L4 18.59l7.72-7.72 1.47 1.35L5.41 20z\"/>\n",
              "  </svg>\n",
              "      </button>\n",
              "      \n",
              "  <style>\n",
              "    .colab-df-container {\n",
              "      display:flex;\n",
              "      flex-wrap:wrap;\n",
              "      gap: 12px;\n",
              "    }\n",
              "\n",
              "    .colab-df-convert {\n",
              "      background-color: #E8F0FE;\n",
              "      border: none;\n",
              "      border-radius: 50%;\n",
              "      cursor: pointer;\n",
              "      display: none;\n",
              "      fill: #1967D2;\n",
              "      height: 32px;\n",
              "      padding: 0 0 0 0;\n",
              "      width: 32px;\n",
              "    }\n",
              "\n",
              "    .colab-df-convert:hover {\n",
              "      background-color: #E2EBFA;\n",
              "      box-shadow: 0px 1px 2px rgba(60, 64, 67, 0.3), 0px 1px 3px 1px rgba(60, 64, 67, 0.15);\n",
              "      fill: #174EA6;\n",
              "    }\n",
              "\n",
              "    [theme=dark] .colab-df-convert {\n",
              "      background-color: #3B4455;\n",
              "      fill: #D2E3FC;\n",
              "    }\n",
              "\n",
              "    [theme=dark] .colab-df-convert:hover {\n",
              "      background-color: #434B5C;\n",
              "      box-shadow: 0px 1px 3px 1px rgba(0, 0, 0, 0.15);\n",
              "      filter: drop-shadow(0px 1px 2px rgba(0, 0, 0, 0.3));\n",
              "      fill: #FFFFFF;\n",
              "    }\n",
              "  </style>\n",
              "\n",
              "      <script>\n",
              "        const buttonEl =\n",
              "          document.querySelector('#df-924aa319-7fe2-4fd3-95dc-9fab717e9559 button.colab-df-convert');\n",
              "        buttonEl.style.display =\n",
              "          google.colab.kernel.accessAllowed ? 'block' : 'none';\n",
              "\n",
              "        async function convertToInteractive(key) {\n",
              "          const element = document.querySelector('#df-924aa319-7fe2-4fd3-95dc-9fab717e9559');\n",
              "          const dataTable =\n",
              "            await google.colab.kernel.invokeFunction('convertToInteractive',\n",
              "                                                     [key], {});\n",
              "          if (!dataTable) return;\n",
              "\n",
              "          const docLinkHtml = 'Like what you see? Visit the ' +\n",
              "            '<a target=\"_blank\" href=https://colab.research.google.com/notebooks/data_table.ipynb>data table notebook</a>'\n",
              "            + ' to learn more about interactive tables.';\n",
              "          element.innerHTML = '';\n",
              "          dataTable['output_type'] = 'display_data';\n",
              "          await google.colab.output.renderOutput(dataTable, element);\n",
              "          const docLink = document.createElement('div');\n",
              "          docLink.innerHTML = docLinkHtml;\n",
              "          element.appendChild(docLink);\n",
              "        }\n",
              "      </script>\n",
              "    </div>\n",
              "  </div>\n",
              "  "
            ]
          },
          "metadata": {},
          "execution_count": 6
        }
      ]
    },
    {
      "cell_type": "markdown",
      "source": [
        "##A function to find out the counties where wildfires are frequent"
      ],
      "metadata": {
        "id": "e7OFmxt4bYqM"
      }
    },
    {
      "cell_type": "code",
      "source": [
        "def freq_wfire(big_df,state,yr1 = 2019, yr2=2022):\n",
        "  '''\n",
        "  Input: dataframe, state, year range.\n",
        "  Output: list of counties where wildfires are very frequent, for the given state, over the years\n",
        "  '''\n",
        "  #Store all counties\n",
        "  county_list = big_df[big_df['POOState']==state]['POOFips'].unique().tolist()\n",
        "  #for each year, find intersection with the counties with high wfire frequency\n",
        "  for yr in range(yr1,yr2+1):\n",
        "    c_list = big_df[(big_df['POOState']==state) &(big_df['StartYear']==yr)  ]['POOFips'].value_counts().nlargest(15).index.tolist()\n",
        "    county_list = set(county_list).intersection(c_list)\n",
        "  #return the list of counties\n",
        "  return list(county_list)"
      ],
      "metadata": {
        "id": "xT-H0RgCbGu3"
      },
      "execution_count": 7,
      "outputs": []
    },
    {
      "cell_type": "markdown",
      "source": [
        "## Define an integer problem"
      ],
      "metadata": {
        "id": "pCukwKdff_ov"
      }
    },
    {
      "cell_type": "markdown",
      "source": [
        "\n",
        "```\n",
        "Minimize sum_i sum_j d_{ij} x_{ij}\n",
        "subject to:\n",
        "  sum_j x_{ij} = 1 for all i \n",
        "  sum_i x_{ij} < k y_j\n",
        "  sum_j y_j <= max_stations\n",
        "  x_{ij}, y_j are binary for all i,j\n",
        "```\n",
        "\n",
        "> x_{ij} is 1 if location i looks over station j\n",
        "\n",
        "> y_j itakes the value 1 if a station is built at location j and 0 otherwise\n",
        "\n",
        "> d_{ij} is the distance between location i and station j\n",
        "\n",
        "> Each station has a capacity k\n",
        "\n",
        "\n",
        "\n",
        "\n"
      ],
      "metadata": {
        "id": "BfZXtsDKgiKK"
      }
    },
    {
      "cell_type": "markdown",
      "source": [
        "## Using GUROBI to solve the integer program"
      ],
      "metadata": {
        "id": "q5RL8NqQiEel"
      }
    },
    {
      "cell_type": "code",
      "source": [
        "#Download packages if not present\n",
        "try:\n",
        "  import gurobipy as gp\n",
        "  from gurobipy import GRB\n",
        "except:\n",
        "  %pip install gurobipy\n",
        "  import gurobipy as gp\n",
        "  from gurobipy import GRB\n",
        "\n",
        "def opt_station_local(county_data):\n",
        "  locations_df = county_data[['Y','X']]\n",
        "  locations = {loc_id: (x, y) for loc_id, x, y in zip(locations_df.index.tolist(), locations_df['X'], locations_df['Y'])}\n",
        "  location_to_idx = {i: idx for idx, i in enumerate(locations)}\n",
        "  idx_to_location = {idx: i for i, idx in location_to_idx.items()}\n",
        "\n",
        "  n = len(location_to_idx) \n",
        "  m = 11 # number of potential station locations\n",
        "  k = 16 # max number of locations each station can serve\n",
        "  max_stations = int(np.log(county_data['ALAND'].iloc[0])) +3 # max number of stations to build in a county\n",
        "\n",
        "  stations = [(i, j) for i in range(m) for j in range(m)]\n",
        "\n",
        "  d = {(idx,j): math.sqrt((locations[i][0]-stations[j][0])**2 + (locations[i][1]-stations[j][1])**2) for i,idx in location_to_idx.items() for j in range(m)}\n",
        "  #In order to extend the project to include cost based on location, one can also define a cost vector\n",
        "  #Update the objective function accordingly and we will get a complex model \n",
        "  #This could be made more dynamic as well if required.\n",
        "  #c = {j: 10 for j in stations}\n",
        "\n",
        "  # Create model\n",
        "  #Need to use licensed version for bigger models\n",
        "  model = gp.Model('minimum cost flow')\n",
        "  model.setParam('OutputFlag',0)\n",
        "  # Create variables\n",
        "  x = model.addVars(n, m, vtype=GRB.BINARY, name='x')\n",
        "  y = model.addVars(m, vtype=GRB.BINARY, name='y')\n",
        "\n",
        "  # Set objective function\n",
        "  obj = gp.quicksum(d[i,j] * x[i,j] for i in range(n) for j in range(m))\n",
        "  model.setObjective(obj, GRB.MINIMIZE)\n",
        "\n",
        "  # Add constraints\n",
        "  model.addConstrs(gp.quicksum(x[i,j] for j in range(m)) == 1 for i in range(n)) # each location is served by one station\n",
        "  model.addConstrs(gp.quicksum(x[i,j] for i in range(n)) <= k * y[j] for j in range(m)) # each station serves at most k locations\n",
        "  model.addConstr(gp.quicksum(y[j] for j in range(m)) <= max_stations) # at most max_stations stations are built\n",
        "\n",
        "  # Optimize model\n",
        "  model.optimize()\n",
        "\n",
        "  # Print solution\n",
        "  if model.status == GRB.OPTIMAL:\n",
        "      station_coords = []\n",
        "      for j in range(m):\n",
        "          if y[j].x > 0.5:\n",
        "              locations_served = [i for i in range(n) if x[i,j].x > 0.5]\n",
        "              station_coords.append(stations[j])\n",
        "  else:\n",
        "      print('No solution found.')\n",
        "      return\n",
        "  station_coord = []\n",
        "  station_idx = [i for i,x in enumerate(stations) if x in station_coords]\n",
        "  for j in station_idx:\n",
        "    assigned_loc = [i for i in range(n) if np.abs(x[i,j].X-1).round(1)==0]\n",
        "    if len(assigned_loc)==0:\n",
        "        continue\n",
        "    else:\n",
        "        dist = 100\n",
        "        station_lat = sum(locations_df.loc[idx_to_location[i]][0] for i in assigned_loc)/len(assigned_loc)\n",
        "        station_lon = sum(locations_df.loc[idx_to_location[i]][1] for i in assigned_loc)/len(assigned_loc)\n",
        "        for p in station_coord:\n",
        "          val = np.abs(p[0] -station_lat) +np.abs(p[1]-station_lon)\n",
        "          dist = min(dist,val)\n",
        "        if dist<0.05:\n",
        "          continue\n",
        "        else:\n",
        "          station_coord.append((station_lat,station_lon))\n",
        "  return station_coord\n",
        "\n"
      ],
      "metadata": {
        "id": "kPCqKCQRcxUt"
      },
      "execution_count": null,
      "outputs": []
    },
    {
      "cell_type": "markdown",
      "source": [
        "#Drawing an animated plot to show county wise location of stations"
      ],
      "metadata": {
        "id": "1MC5D44NOvLT"
      }
    },
    {
      "cell_type": "code",
      "source": [
        "def graph_county_station_location(big_df,county):\n",
        "  county_data = big_df[big_df['POOFips']==county][['X','Y','DiscoveryAcres','StartYear','StartMonth','ALAND']].sort_values(by = 'StartYear')\n",
        "  fig = px.scatter(county_data, x ='Y',y = 'X',\n",
        "                  color= 'DiscoveryAcres', color_continuous_scale='Reds',\n",
        "                  animation_frame = 'StartYear')\n",
        "  station_coord = opt_station_local(county_data)\n",
        "  points = pd.DataFrame(station_coord,columns = ['x','y'])\n",
        "  for frame in fig.frames:\n",
        "      frame.data[0].update({'x': list(frame.data[0].x) + list(points.x),\n",
        "                            'y': list(frame.data[0].y) + list(points.y)})\n",
        "      frame.data[0]['mode'] = '+'.join(['markers' for i in range(len(frame.data[0]['x']))])\n",
        "\n",
        "      sym_list = list(['circle']*(len(frame.data[0]['x'])-len(station_coord) ))\n",
        "      for i in range(len(station_coord)):\n",
        "          sym_list.append('star')\n",
        "      frame.data[0]['marker']['symbol'] = sym_list\n",
        "\n",
        "  fig.update_layout(yaxis_range=[min(min(county_data['X'].dropna()), min(points['y']))-0.2,max(max(county_data['X'].dropna()), max(points['y']))+0.2],\n",
        "                    xaxis_range = [min(min(county_data['Y'].dropna()), min(points['x']))-0.2, max(max(county_data['Y'].dropna()), max(points['x'])) +0.2])\n",
        "  fig.update_traces(marker=dict(size=20,\n",
        "                                line=dict(width=2,\n",
        "                                          color='DarkSlateGrey'),\n",
        "                                reversescale = True),\n",
        "                    selector=dict(mode='markers'))\n",
        "  fig.show()\n",
        "  return station_coord"
      ],
      "metadata": {
        "id": "e3hf3Xc0oNFj"
      },
      "execution_count": 23,
      "outputs": []
    },
    {
      "cell_type": "code",
      "source": [
        "#Example \n",
        "graph_county_station_location(big_df,'04011')"
      ],
      "metadata": {
        "colab": {
          "base_uri": "https://localhost:8080/",
          "height": 542
        },
        "id": "bMggP0KHsvsE",
        "outputId": "68406642-fbab-4c50-f23b-e08ce80c325b"
      },
      "execution_count": 24,
      "outputs": [
        {
          "output_type": "display_data",
          "data": {
            "text/html": [
              "<html>\n",
              "<head><meta charset=\"utf-8\" /></head>\n",
              "<body>\n",
              "    <div>            <script src=\"https://cdnjs.cloudflare.com/ajax/libs/mathjax/2.7.5/MathJax.js?config=TeX-AMS-MML_SVG\"></script><script type=\"text/javascript\">if (window.MathJax && window.MathJax.Hub && window.MathJax.Hub.Config) {window.MathJax.Hub.Config({SVG: {font: \"STIX-Web\"}});}</script>                <script type=\"text/javascript\">window.PlotlyConfig = {MathJaxConfig: 'local'};</script>\n",
              "        <script src=\"https://cdn.plot.ly/plotly-2.18.2.min.js\"></script>                <div id=\"851871a4-6431-4cf8-b8ba-b88075f30ce2\" class=\"plotly-graph-div\" style=\"height:525px; width:100%;\"></div>            <script type=\"text/javascript\">                                    window.PLOTLYENV=window.PLOTLYENV || {};                                    if (document.getElementById(\"851871a4-6431-4cf8-b8ba-b88075f30ce2\")) {                    Plotly.newPlot(                        \"851871a4-6431-4cf8-b8ba-b88075f30ce2\",                        [{\"hovertemplate\":\"StartYear=2019<br>Y=%{x}<br>X=%{y}<br>DiscoveryAcres=%{marker.color}<extra></extra>\",\"legendgroup\":\"\",\"marker\":{\"color\":[0.1,0.1,0.1,0.1,0.1,0.1,0.3,0.1,0.1,0.1,0.1,0.1,0.1,0.1,0.1,0.1,0.1,0.1,0.1,0.1,0.1,0.1,0.1],\"coloraxis\":\"coloraxis\",\"symbol\":\"circle\",\"line\":{\"color\":\"DarkSlateGrey\",\"width\":2},\"reversescale\":true,\"size\":20},\"mode\":\"markers\",\"name\":\"\",\"orientation\":\"v\",\"showlegend\":false,\"x\":[33.7344493140001,33.6851652990001,33.4046952570001,33.7583353110001,33.6641452860001,33.450005258,32.7385451600001,32.8613551770001,33.139275221,33.6744952930001,33.5475352710001,33.342005242,33.735285311,33.100095219,33.141505226,33.722315306,33.447965255,33.456088252,33.5554752740001,33.4430252670001,33.071495209,33.3579952580001,33.4169252500001],\"xaxis\":\"x\",\"y\":[-109.073310434,-109.223110462,-109.237910444,-109.19031046,-109.421810501,-109.350010471,-109.20241039,-109.230543404,-109.185110414,-109.31631048,-109.383210485,-109.354810464,-109.133610447,-109.105110395,-109.087410394,-109.193210458,-109.39511048,-109.476643497,-109.332310475,-109.159510431,-109.220010417,-109.078010408,-109.417410482],\"yaxis\":\"y\",\"type\":\"scatter\"}],                        {\"template\":{\"data\":{\"histogram2dcontour\":[{\"type\":\"histogram2dcontour\",\"colorbar\":{\"outlinewidth\":0,\"ticks\":\"\"},\"colorscale\":[[0.0,\"#0d0887\"],[0.1111111111111111,\"#46039f\"],[0.2222222222222222,\"#7201a8\"],[0.3333333333333333,\"#9c179e\"],[0.4444444444444444,\"#bd3786\"],[0.5555555555555556,\"#d8576b\"],[0.6666666666666666,\"#ed7953\"],[0.7777777777777778,\"#fb9f3a\"],[0.8888888888888888,\"#fdca26\"],[1.0,\"#f0f921\"]]}],\"choropleth\":[{\"type\":\"choropleth\",\"colorbar\":{\"outlinewidth\":0,\"ticks\":\"\"}}],\"histogram2d\":[{\"type\":\"histogram2d\",\"colorbar\":{\"outlinewidth\":0,\"ticks\":\"\"},\"colorscale\":[[0.0,\"#0d0887\"],[0.1111111111111111,\"#46039f\"],[0.2222222222222222,\"#7201a8\"],[0.3333333333333333,\"#9c179e\"],[0.4444444444444444,\"#bd3786\"],[0.5555555555555556,\"#d8576b\"],[0.6666666666666666,\"#ed7953\"],[0.7777777777777778,\"#fb9f3a\"],[0.8888888888888888,\"#fdca26\"],[1.0,\"#f0f921\"]]}],\"heatmap\":[{\"type\":\"heatmap\",\"colorbar\":{\"outlinewidth\":0,\"ticks\":\"\"},\"colorscale\":[[0.0,\"#0d0887\"],[0.1111111111111111,\"#46039f\"],[0.2222222222222222,\"#7201a8\"],[0.3333333333333333,\"#9c179e\"],[0.4444444444444444,\"#bd3786\"],[0.5555555555555556,\"#d8576b\"],[0.6666666666666666,\"#ed7953\"],[0.7777777777777778,\"#fb9f3a\"],[0.8888888888888888,\"#fdca26\"],[1.0,\"#f0f921\"]]}],\"heatmapgl\":[{\"type\":\"heatmapgl\",\"colorbar\":{\"outlinewidth\":0,\"ticks\":\"\"},\"colorscale\":[[0.0,\"#0d0887\"],[0.1111111111111111,\"#46039f\"],[0.2222222222222222,\"#7201a8\"],[0.3333333333333333,\"#9c179e\"],[0.4444444444444444,\"#bd3786\"],[0.5555555555555556,\"#d8576b\"],[0.6666666666666666,\"#ed7953\"],[0.7777777777777778,\"#fb9f3a\"],[0.8888888888888888,\"#fdca26\"],[1.0,\"#f0f921\"]]}],\"contourcarpet\":[{\"type\":\"contourcarpet\",\"colorbar\":{\"outlinewidth\":0,\"ticks\":\"\"}}],\"contour\":[{\"type\":\"contour\",\"colorbar\":{\"outlinewidth\":0,\"ticks\":\"\"},\"colorscale\":[[0.0,\"#0d0887\"],[0.1111111111111111,\"#46039f\"],[0.2222222222222222,\"#7201a8\"],[0.3333333333333333,\"#9c179e\"],[0.4444444444444444,\"#bd3786\"],[0.5555555555555556,\"#d8576b\"],[0.6666666666666666,\"#ed7953\"],[0.7777777777777778,\"#fb9f3a\"],[0.8888888888888888,\"#fdca26\"],[1.0,\"#f0f921\"]]}],\"surface\":[{\"type\":\"surface\",\"colorbar\":{\"outlinewidth\":0,\"ticks\":\"\"},\"colorscale\":[[0.0,\"#0d0887\"],[0.1111111111111111,\"#46039f\"],[0.2222222222222222,\"#7201a8\"],[0.3333333333333333,\"#9c179e\"],[0.4444444444444444,\"#bd3786\"],[0.5555555555555556,\"#d8576b\"],[0.6666666666666666,\"#ed7953\"],[0.7777777777777778,\"#fb9f3a\"],[0.8888888888888888,\"#fdca26\"],[1.0,\"#f0f921\"]]}],\"mesh3d\":[{\"type\":\"mesh3d\",\"colorbar\":{\"outlinewidth\":0,\"ticks\":\"\"}}],\"scatter\":[{\"fillpattern\":{\"fillmode\":\"overlay\",\"size\":10,\"solidity\":0.2},\"type\":\"scatter\"}],\"parcoords\":[{\"type\":\"parcoords\",\"line\":{\"colorbar\":{\"outlinewidth\":0,\"ticks\":\"\"}}}],\"scatterpolargl\":[{\"type\":\"scatterpolargl\",\"marker\":{\"colorbar\":{\"outlinewidth\":0,\"ticks\":\"\"}}}],\"bar\":[{\"error_x\":{\"color\":\"#2a3f5f\"},\"error_y\":{\"color\":\"#2a3f5f\"},\"marker\":{\"line\":{\"color\":\"#E5ECF6\",\"width\":0.5},\"pattern\":{\"fillmode\":\"overlay\",\"size\":10,\"solidity\":0.2}},\"type\":\"bar\"}],\"scattergeo\":[{\"type\":\"scattergeo\",\"marker\":{\"colorbar\":{\"outlinewidth\":0,\"ticks\":\"\"}}}],\"scatterpolar\":[{\"type\":\"scatterpolar\",\"marker\":{\"colorbar\":{\"outlinewidth\":0,\"ticks\":\"\"}}}],\"histogram\":[{\"marker\":{\"pattern\":{\"fillmode\":\"overlay\",\"size\":10,\"solidity\":0.2}},\"type\":\"histogram\"}],\"scattergl\":[{\"type\":\"scattergl\",\"marker\":{\"colorbar\":{\"outlinewidth\":0,\"ticks\":\"\"}}}],\"scatter3d\":[{\"type\":\"scatter3d\",\"line\":{\"colorbar\":{\"outlinewidth\":0,\"ticks\":\"\"}},\"marker\":{\"colorbar\":{\"outlinewidth\":0,\"ticks\":\"\"}}}],\"scattermapbox\":[{\"type\":\"scattermapbox\",\"marker\":{\"colorbar\":{\"outlinewidth\":0,\"ticks\":\"\"}}}],\"scatterternary\":[{\"type\":\"scatterternary\",\"marker\":{\"colorbar\":{\"outlinewidth\":0,\"ticks\":\"\"}}}],\"scattercarpet\":[{\"type\":\"scattercarpet\",\"marker\":{\"colorbar\":{\"outlinewidth\":0,\"ticks\":\"\"}}}],\"carpet\":[{\"aaxis\":{\"endlinecolor\":\"#2a3f5f\",\"gridcolor\":\"white\",\"linecolor\":\"white\",\"minorgridcolor\":\"white\",\"startlinecolor\":\"#2a3f5f\"},\"baxis\":{\"endlinecolor\":\"#2a3f5f\",\"gridcolor\":\"white\",\"linecolor\":\"white\",\"minorgridcolor\":\"white\",\"startlinecolor\":\"#2a3f5f\"},\"type\":\"carpet\"}],\"table\":[{\"cells\":{\"fill\":{\"color\":\"#EBF0F8\"},\"line\":{\"color\":\"white\"}},\"header\":{\"fill\":{\"color\":\"#C8D4E3\"},\"line\":{\"color\":\"white\"}},\"type\":\"table\"}],\"barpolar\":[{\"marker\":{\"line\":{\"color\":\"#E5ECF6\",\"width\":0.5},\"pattern\":{\"fillmode\":\"overlay\",\"size\":10,\"solidity\":0.2}},\"type\":\"barpolar\"}],\"pie\":[{\"automargin\":true,\"type\":\"pie\"}]},\"layout\":{\"autotypenumbers\":\"strict\",\"colorway\":[\"#636efa\",\"#EF553B\",\"#00cc96\",\"#ab63fa\",\"#FFA15A\",\"#19d3f3\",\"#FF6692\",\"#B6E880\",\"#FF97FF\",\"#FECB52\"],\"font\":{\"color\":\"#2a3f5f\"},\"hovermode\":\"closest\",\"hoverlabel\":{\"align\":\"left\"},\"paper_bgcolor\":\"white\",\"plot_bgcolor\":\"#E5ECF6\",\"polar\":{\"bgcolor\":\"#E5ECF6\",\"angularaxis\":{\"gridcolor\":\"white\",\"linecolor\":\"white\",\"ticks\":\"\"},\"radialaxis\":{\"gridcolor\":\"white\",\"linecolor\":\"white\",\"ticks\":\"\"}},\"ternary\":{\"bgcolor\":\"#E5ECF6\",\"aaxis\":{\"gridcolor\":\"white\",\"linecolor\":\"white\",\"ticks\":\"\"},\"baxis\":{\"gridcolor\":\"white\",\"linecolor\":\"white\",\"ticks\":\"\"},\"caxis\":{\"gridcolor\":\"white\",\"linecolor\":\"white\",\"ticks\":\"\"}},\"coloraxis\":{\"colorbar\":{\"outlinewidth\":0,\"ticks\":\"\"}},\"colorscale\":{\"sequential\":[[0.0,\"#0d0887\"],[0.1111111111111111,\"#46039f\"],[0.2222222222222222,\"#7201a8\"],[0.3333333333333333,\"#9c179e\"],[0.4444444444444444,\"#bd3786\"],[0.5555555555555556,\"#d8576b\"],[0.6666666666666666,\"#ed7953\"],[0.7777777777777778,\"#fb9f3a\"],[0.8888888888888888,\"#fdca26\"],[1.0,\"#f0f921\"]],\"sequentialminus\":[[0.0,\"#0d0887\"],[0.1111111111111111,\"#46039f\"],[0.2222222222222222,\"#7201a8\"],[0.3333333333333333,\"#9c179e\"],[0.4444444444444444,\"#bd3786\"],[0.5555555555555556,\"#d8576b\"],[0.6666666666666666,\"#ed7953\"],[0.7777777777777778,\"#fb9f3a\"],[0.8888888888888888,\"#fdca26\"],[1.0,\"#f0f921\"]],\"diverging\":[[0,\"#8e0152\"],[0.1,\"#c51b7d\"],[0.2,\"#de77ae\"],[0.3,\"#f1b6da\"],[0.4,\"#fde0ef\"],[0.5,\"#f7f7f7\"],[0.6,\"#e6f5d0\"],[0.7,\"#b8e186\"],[0.8,\"#7fbc41\"],[0.9,\"#4d9221\"],[1,\"#276419\"]]},\"xaxis\":{\"gridcolor\":\"white\",\"linecolor\":\"white\",\"ticks\":\"\",\"title\":{\"standoff\":15},\"zerolinecolor\":\"white\",\"automargin\":true,\"zerolinewidth\":2},\"yaxis\":{\"gridcolor\":\"white\",\"linecolor\":\"white\",\"ticks\":\"\",\"title\":{\"standoff\":15},\"zerolinecolor\":\"white\",\"automargin\":true,\"zerolinewidth\":2},\"scene\":{\"xaxis\":{\"backgroundcolor\":\"#E5ECF6\",\"gridcolor\":\"white\",\"linecolor\":\"white\",\"showbackground\":true,\"ticks\":\"\",\"zerolinecolor\":\"white\",\"gridwidth\":2},\"yaxis\":{\"backgroundcolor\":\"#E5ECF6\",\"gridcolor\":\"white\",\"linecolor\":\"white\",\"showbackground\":true,\"ticks\":\"\",\"zerolinecolor\":\"white\",\"gridwidth\":2},\"zaxis\":{\"backgroundcolor\":\"#E5ECF6\",\"gridcolor\":\"white\",\"linecolor\":\"white\",\"showbackground\":true,\"ticks\":\"\",\"zerolinecolor\":\"white\",\"gridwidth\":2}},\"shapedefaults\":{\"line\":{\"color\":\"#2a3f5f\"}},\"annotationdefaults\":{\"arrowcolor\":\"#2a3f5f\",\"arrowhead\":0,\"arrowwidth\":1},\"geo\":{\"bgcolor\":\"white\",\"landcolor\":\"#E5ECF6\",\"subunitcolor\":\"white\",\"showland\":true,\"showlakes\":true,\"lakecolor\":\"white\"},\"title\":{\"x\":0.05},\"mapbox\":{\"style\":\"light\"}}},\"xaxis\":{\"anchor\":\"y\",\"domain\":[0.0,1.0],\"title\":{\"text\":\"Y\"},\"range\":[32.5385451600001,33.976415318]},\"yaxis\":{\"anchor\":\"x\",\"domain\":[0.0,1.0],\"title\":{\"text\":\"X\"},\"range\":[-109.685510491,-108.850710428]},\"coloraxis\":{\"colorbar\":{\"title\":{\"text\":\"DiscoveryAcres\"}},\"colorscale\":[[0.0,\"rgb(255,245,240)\"],[0.125,\"rgb(254,224,210)\"],[0.25,\"rgb(252,187,161)\"],[0.375,\"rgb(252,146,114)\"],[0.5,\"rgb(251,106,74)\"],[0.625,\"rgb(239,59,44)\"],[0.75,\"rgb(203,24,29)\"],[0.875,\"rgb(165,15,21)\"],[1.0,\"rgb(103,0,13)\"]]},\"legend\":{\"tracegroupgap\":0},\"margin\":{\"t\":60},\"updatemenus\":[{\"buttons\":[{\"args\":[null,{\"frame\":{\"duration\":500,\"redraw\":false},\"mode\":\"immediate\",\"fromcurrent\":true,\"transition\":{\"duration\":500,\"easing\":\"linear\"}}],\"label\":\"&#9654;\",\"method\":\"animate\"},{\"args\":[[null],{\"frame\":{\"duration\":0,\"redraw\":false},\"mode\":\"immediate\",\"fromcurrent\":true,\"transition\":{\"duration\":0,\"easing\":\"linear\"}}],\"label\":\"&#9724;\",\"method\":\"animate\"}],\"direction\":\"left\",\"pad\":{\"r\":10,\"t\":70},\"showactive\":false,\"type\":\"buttons\",\"x\":0.1,\"xanchor\":\"right\",\"y\":0,\"yanchor\":\"top\"}],\"sliders\":[{\"active\":0,\"currentvalue\":{\"prefix\":\"StartYear=\"},\"len\":0.9,\"pad\":{\"b\":10,\"t\":60},\"steps\":[{\"args\":[[\"2019\"],{\"frame\":{\"duration\":0,\"redraw\":false},\"mode\":\"immediate\",\"fromcurrent\":true,\"transition\":{\"duration\":0,\"easing\":\"linear\"}}],\"label\":\"2019\",\"method\":\"animate\"},{\"args\":[[\"2020\"],{\"frame\":{\"duration\":0,\"redraw\":false},\"mode\":\"immediate\",\"fromcurrent\":true,\"transition\":{\"duration\":0,\"easing\":\"linear\"}}],\"label\":\"2020\",\"method\":\"animate\"},{\"args\":[[\"2021\"],{\"frame\":{\"duration\":0,\"redraw\":false},\"mode\":\"immediate\",\"fromcurrent\":true,\"transition\":{\"duration\":0,\"easing\":\"linear\"}}],\"label\":\"2021\",\"method\":\"animate\"},{\"args\":[[\"2022\"],{\"frame\":{\"duration\":0,\"redraw\":false},\"mode\":\"immediate\",\"fromcurrent\":true,\"transition\":{\"duration\":0,\"easing\":\"linear\"}}],\"label\":\"2022\",\"method\":\"animate\"}],\"x\":0.1,\"xanchor\":\"left\",\"y\":0,\"yanchor\":\"top\"}]},                        {\"responsive\": true}                    ).then(function(){\n",
              "                            Plotly.addFrames('851871a4-6431-4cf8-b8ba-b88075f30ce2', [{\"data\":[{\"hovertemplate\":\"StartYear=2019<br>Y=%{x}<br>X=%{y}<br>DiscoveryAcres=%{marker.color}<extra></extra>\",\"legendgroup\":\"\",\"marker\":{\"color\":[0.1,0.1,0.1,0.1,0.1,0.1,0.3,0.1,0.1,0.1,0.1,0.1,0.1,0.1,0.1,0.1,0.1,0.1,0.1,0.1,0.1,0.1,0.1],\"coloraxis\":\"coloraxis\",\"symbol\":[\"circle\",\"circle\",\"circle\",\"circle\",\"circle\",\"circle\",\"circle\",\"circle\",\"circle\",\"circle\",\"circle\",\"circle\",\"circle\",\"circle\",\"circle\",\"circle\",\"circle\",\"circle\",\"circle\",\"circle\",\"circle\",\"circle\",\"circle\",\"star\",\"star\",\"star\",\"star\"]},\"mode\":\"markers+markers+markers+markers+markers+markers+markers+markers+markers+markers+markers+markers+markers+markers+markers+markers+markers+markers+markers+markers+markers+markers+markers+markers+markers+markers+markers\",\"name\":\"\",\"orientation\":\"v\",\"showlegend\":false,\"x\":[33.7344493140001,33.6851652990001,33.4046952570001,33.7583353110001,33.6641452860001,33.450005258,32.7385451600001,32.8613551770001,33.139275221,33.6744952930001,33.5475352710001,33.342005242,33.735285311,33.100095219,33.141505226,33.722315306,33.447965255,33.456088252,33.5554752740001,33.4430252670001,33.071495209,33.3579952580001,33.4169252500001,33.57099170821436,33.453902763687545,33.46893357243757,33.39411588087501],\"xaxis\":\"x\",\"y\":[-109.073310434,-109.223110462,-109.237910444,-109.19031046,-109.421810501,-109.350010471,-109.20241039,-109.230543404,-109.185110414,-109.31631048,-109.383210485,-109.354810464,-109.133610447,-109.105110395,-109.087410394,-109.193210458,-109.39511048,-109.476643497,-109.332310475,-109.159510431,-109.220010417,-109.078010408,-109.417410482,-109.27478189257143,-109.25106045056249,-109.36423128756248,-109.22916250450001],\"yaxis\":\"y\",\"type\":\"scatter\"}],\"name\":\"2019\"},{\"data\":[{\"hovertemplate\":\"StartYear=2020<br>Y=%{x}<br>X=%{y}<br>DiscoveryAcres=%{marker.color}<extra></extra>\",\"legendgroup\":\"\",\"marker\":{\"color\":[0.1,0.1,0.1,0.1,0.1,0.1,0.1,0.1,0.1,5.0,0.1,0.1,0.1,0.1,0.1,0.1,0.1,0.1,0.1,0.1,0.1,0.1,0.1,0.1,0.1,0.1,0.1,0.1,0.1,0.1,0.1,0.1],\"coloraxis\":\"coloraxis\",\"symbol\":[\"circle\",\"circle\",\"circle\",\"circle\",\"circle\",\"circle\",\"circle\",\"circle\",\"circle\",\"circle\",\"circle\",\"circle\",\"circle\",\"circle\",\"circle\",\"circle\",\"circle\",\"circle\",\"circle\",\"circle\",\"circle\",\"circle\",\"circle\",\"circle\",\"circle\",\"circle\",\"circle\",\"circle\",\"circle\",\"circle\",\"circle\",\"circle\",\"star\",\"star\",\"star\",\"star\"]},\"mode\":\"markers+markers+markers+markers+markers+markers+markers+markers+markers+markers+markers+markers+markers+markers+markers+markers+markers+markers+markers+markers+markers+markers+markers+markers+markers+markers+markers+markers+markers+markers+markers+markers+markers+markers+markers+markers\",\"name\":\"\",\"orientation\":\"v\",\"showlegend\":false,\"x\":[33.5444452850001,33.763355313,33.717495313,32.9461151880001,33.7111353060001,33.185015218,33.724675307,33.5828652770001,33.3845352490001,33.0806651980001,33.68820529,32.883855178,33.671995285,33.5404052760001,33.708325304,33.485475266,33.0110451950001,33.6629352940001,33.3499452460001,33.7261453080001,33.372935252,33.6035052840001,33.277025227,33.404435253,33.3616452580001,33.4151052550001,33.725445301,33.4360152560001,33.6397752890001,33.3607652530001,33.5584152870001,33.5299852730001,33.57099170821436,33.453902763687545,33.46893357243757,33.39411588087501],\"xaxis\":\"x\",\"y\":[-109.089410424,-109.165410456,-109.050710428,-109.259810416,-109.15951045,-109.367710455,-109.182010456,-109.369110484,-109.331410462,-109.47441047,-109.4083105,-109.278510416,-109.451210508,-109.261310459,-109.183710455,-109.301410463,-109.320010433,-109.260710468,-109.299910453,-109.171310454,-109.255010445,-109.277310467,-109.45481048,-109.31361046,-109.08861041,-109.31161046,-109.29591048,-109.354010471,-109.284110471,-109.195210432,-109.092710425,-109.296210465,-109.27478189257143,-109.25106045056249,-109.36423128756248,-109.22916250450001],\"yaxis\":\"y\",\"type\":\"scatter\"}],\"name\":\"2020\"},{\"data\":[{\"hovertemplate\":\"StartYear=2021<br>Y=%{x}<br>X=%{y}<br>DiscoveryAcres=%{marker.color}<extra></extra>\",\"legendgroup\":\"\",\"marker\":{\"color\":[0.1,0.1,0.1,0.1,0.1,0.1,0.1,0.1,0.1,0.1,0.1,0.1,0.1,0.1,0.1,0.1,0.1,15.0,0.1,0.1,0.1,0.1,0.1,0.1,0.1,0.1,0.1,0.1,0.1,0.1,0.1,0.1,0.1,0.5,0.1,0.1,1.0,0.1,0.1],\"coloraxis\":\"coloraxis\",\"symbol\":[\"circle\",\"circle\",\"circle\",\"circle\",\"circle\",\"circle\",\"circle\",\"circle\",\"circle\",\"circle\",\"circle\",\"circle\",\"circle\",\"circle\",\"circle\",\"circle\",\"circle\",\"circle\",\"circle\",\"circle\",\"circle\",\"circle\",\"circle\",\"circle\",\"circle\",\"circle\",\"circle\",\"circle\",\"circle\",\"circle\",\"circle\",\"circle\",\"circle\",\"circle\",\"circle\",\"circle\",\"circle\",\"circle\",\"circle\",\"star\",\"star\",\"star\",\"star\"]},\"mode\":\"markers+markers+markers+markers+markers+markers+markers+markers+markers+markers+markers+markers+markers+markers+markers+markers+markers+markers+markers+markers+markers+markers+markers+markers+markers+markers+markers+markers+markers+markers+markers+markers+markers+markers+markers+markers+markers+markers+markers+markers+markers+markers+markers\",\"name\":\"\",\"orientation\":\"v\",\"showlegend\":false,\"x\":[33.1894652180001,33.62703528,33.776415318,33.6872352930001,33.2387152260001,33.669775289,33.689105297,33.2874552330001,33.634315282,33.632025291,33.6085652790001,33.4545952570001,33.3404152350001,33.7597753090001,33.753775309,33.3647052580001,33.4533052580001,33.5454652810001,33.487925267,33.3965952630001,33.6362452860001,33.6858352890001,33.528695278,33.654955301,33.46458526,33.75483531,33.758985303,33.6925652950001,33.1930552260001,33.7379453090001,33.646055286,33.373075258,33.2621652240001,32.998855201,33.619755281,33.223335224,32.8999051810001,33.6888052950001,33.589185274,33.57099170821436,33.453902763687545,33.46893357243757,33.39411588087501],\"xaxis\":\"x\",\"y\":[-109.384810459,-109.4297105,-109.115710446,-109.346010487,-109.37291046,-109.372610492,-109.275810473,-109.367310463,-109.400210495,-109.23431046,-109.401810493,-109.388810479,-109.485510491,-109.240210471,-109.220510466,-109.099910413,-109.366810474,-109.177710442,-109.288210461,-109.100010415,-109.345910484,-109.417310502,-109.194510444,-109.101810434,-109.361810474,-109.217010466,-109.349610493,-109.326910484,-109.24391043,-109.185910458,-109.369810489,-109.135410421,-109.472210482,-109.169710401,-109.393410492,-109.365310458,-109.266810414,-109.306910479,-109.433510498,-109.27478189257143,-109.25106045056249,-109.36423128756248,-109.22916250450001],\"yaxis\":\"y\",\"type\":\"scatter\"}],\"name\":\"2021\"},{\"data\":[{\"hovertemplate\":\"StartYear=2022<br>Y=%{x}<br>X=%{y}<br>DiscoveryAcres=%{marker.color}<extra></extra>\",\"legendgroup\":\"\",\"marker\":{\"color\":[0.1,0.1,2.0,0.5,0.1,0.1,0.1,0.1,0.1,0.1,0.1,0.1,0.1,0.1,0.1,0.1],\"coloraxis\":\"coloraxis\",\"symbol\":[\"circle\",\"circle\",\"circle\",\"circle\",\"circle\",\"circle\",\"circle\",\"circle\",\"circle\",\"circle\",\"circle\",\"circle\",\"circle\",\"circle\",\"circle\",\"circle\",\"star\",\"star\",\"star\",\"star\"]},\"mode\":\"markers+markers+markers+markers+markers+markers+markers+markers+markers+markers+markers+markers+markers+markers+markers+markers+markers+markers+markers+markers\",\"name\":\"\",\"orientation\":\"v\",\"showlegend\":false,\"x\":[33.770115316,33.6749552960001,33.656955301,33.718875299,33.674665298,33.5428252730001,33.681485298,33.5980252800001,33.7018553010001,33.7682653040001,33.6349752830001,33.664245285,33.7492253070001,33.684995299,33.062055215,33.629615297,33.57099170821436,33.453902763687545,33.46893357243757,33.39411588087501],\"xaxis\":\"x\",\"y\":[-109.129310449,-109.258610468,-109.095910433,-109.326310486,-109.213910459,-109.31501047,-109.228310462,-109.349210481,-109.240110466,-109.355010495,-109.392410493,-109.427410502,-109.246910471,-109.229910463,-109.070810385,-109.097610431,-109.27478189257143,-109.25106045056249,-109.36423128756248,-109.22916250450001],\"yaxis\":\"y\",\"type\":\"scatter\"}],\"name\":\"2022\"}]);\n",
              "                        }).then(function(){\n",
              "                            \n",
              "var gd = document.getElementById('851871a4-6431-4cf8-b8ba-b88075f30ce2');\n",
              "var x = new MutationObserver(function (mutations, observer) {{\n",
              "        var display = window.getComputedStyle(gd).display;\n",
              "        if (!display || display === 'none') {{\n",
              "            console.log([gd, 'removed!']);\n",
              "            Plotly.purge(gd);\n",
              "            observer.disconnect();\n",
              "        }}\n",
              "}});\n",
              "\n",
              "// Listen for the removal of the full notebook cells\n",
              "var notebookContainer = gd.closest('#notebook-container');\n",
              "if (notebookContainer) {{\n",
              "    x.observe(notebookContainer, {childList: true});\n",
              "}}\n",
              "\n",
              "// Listen for the clearing of the current output cell\n",
              "var outputEl = gd.closest('.output');\n",
              "if (outputEl) {{\n",
              "    x.observe(outputEl, {childList: true});\n",
              "}}\n",
              "\n",
              "                        })                };                            </script>        </div>\n",
              "</body>\n",
              "</html>"
            ]
          },
          "metadata": {}
        }
      ]
    },
    {
      "cell_type": "markdown",
      "source": [
        "#Now we calculate the area per person"
      ],
      "metadata": {
        "id": "tk9v6W9mV6NV"
      }
    },
    {
      "cell_type": "code",
      "source": [
        "big_df['L_Area_by_pop_2019'] = big_df['ALAND']/big_df['POP_2019']\n",
        "big_df['L_Area_by_pop_2020'] = big_df['ALAND']/big_df['POP_2020']\n",
        "big_df['L_Area_by_pop_2021'] = big_df['ALAND']/big_df['POP_2021']\n",
        "big_df['L_Area_by_pop_2022'] = big_df['ALAND']/big_df['POP_2022']"
      ],
      "metadata": {
        "id": "eetAuwAQ4eXO"
      },
      "execution_count": 103,
      "outputs": []
    },
    {
      "cell_type": "markdown",
      "source": [
        "##Assigning Scores"
      ],
      "metadata": {
        "id": "8S5n7ZlMWCIi"
      }
    },
    {
      "cell_type": "code",
      "source": [
        "def normalize(big_df,column):\n",
        "  return (big_df[column]-min(big_df[column]))/(max(big_df[column])-min(big_df[column]))\n",
        "\n",
        "big_df['Score'] = 10 - normalize(big_df,'DiscoveryAcres') - normalize(big_df.fillna(0.1),'Rainfall') + normalize(big_df.fillna(50),'Max_Temp') - 0.01*(big_df['StartMonth']-12)*(4+big_df['StartMonth']) + 0.1*big_df['L_Area_by_pop_2022'].fillna(0.001) \n",
        "big_df['Score'] = big_df['Score'] + 0.01*(max(big_df['Y'])-big_df['Y']) \n",
        "#Normalization of score\n",
        "big_df['Score'] = big_df['Score']/100"
      ],
      "metadata": {
        "id": "f4jWwMMXKUPg"
      },
      "execution_count": 104,
      "outputs": []
    },
    {
      "cell_type": "markdown",
      "source": [
        "Understanding the wildfire Score:\n",
        "  1. If there was a big wildfire, then there is a less chance that the same area will get burnt soon. However, for smaller wildfires, or the ones which were contained, there is a greaeter probability of it getting burned again.\n",
        "  2. Drier weather increases the chances of wildfire. Due to monthly data we look at the rainfall inversely. \n",
        "  3. The maximum temperature improves the likelihood of the wildfire\n",
        "  4. There are more chances of wildfires in the month of April, May, June etc and lesser chances in December and January\n",
        "  5. The more land available per person implies that there is more nature and possibility of wildfire, both due to humans as well as natural causes.\n",
        "  6. Finally, going up the latitude decreases the chances of wildfire, due to natural causes to certain extent.\n",
        "  7. We normalize the score by dividing it by 100 for each incident reported."
      ],
      "metadata": {
        "id": "Vj6LMJ0HWa7E"
      }
    },
    {
      "cell_type": "markdown",
      "source": [
        "#Now that we have the scores for different wildfire incidents, and therefore for the counties as well, let's try to find the stations for some of these counties individually.\n"
      ],
      "metadata": {
        "id": "kvPs-0upYFHq"
      }
    },
    {
      "cell_type": "code",
      "source": [
        "#Top 10 most vulnerable counties\n",
        "top_ten_counties = big_df.groupby('POOFips').sum().sort_values(by = 'Score', ascending = False)['Score'][:10].index\n"
      ],
      "metadata": {
        "id": "zK8kECDPOSGw"
      },
      "execution_count": 111,
      "outputs": []
    },
    {
      "cell_type": "code",
      "source": [
        "station_coordinates = []\n",
        "for county in top_ten_counties:\n",
        "  station_coordinates.append(graph_county_station_location(big_df,county))"
      ],
      "metadata": {
        "id": "oQXnEUbdQy20"
      },
      "execution_count": null,
      "outputs": []
    },
    {
      "cell_type": "code",
      "source": [],
      "metadata": {
        "id": "SG76EihzYw9C"
      },
      "execution_count": null,
      "outputs": []
    }
  ]
}