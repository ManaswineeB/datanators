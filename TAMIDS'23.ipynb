{
 "cells": [
  {
   "cell_type": "code",
   "execution_count": null,
   "metadata": {},
   "outputs": [],
   "source": []
  },
  {
   "cell_type": "code",
   "execution_count": null,
   "metadata": {},
   "outputs": [],
   "source": []
  },
  {
   "cell_type": "code",
   "execution_count": null,
   "metadata": {},
   "outputs": [],
   "source": []
  },
  {
   "cell_type": "code",
   "execution_count": null,
   "metadata": {},
   "outputs": [],
   "source": []
  },
  {
   "cell_type": "code",
   "execution_count": null,
   "metadata": {
    "scrolled": true
   },
   "outputs": [],
   "source": [
    "import pandas as pd\n",
    "import math\n",
    "import numpy as np\n",
    "try :\n",
    "    import geopandas as gpd\n",
    "except:\n",
    "    %pip install geopandas\n",
    "    import geopandas as gpd\n",
    "import matplotlib.pyplot as plt\n",
    "try:\n",
    "    import plotly.express as px\n",
    "except: \n",
    "    %pip install plotly\n",
    "    import plotly.express as px\n",
    "try:\n",
    "    import folium\n",
    "    from folium.plugins import MarkerCluster\n",
    "except: \n",
    "    %pip install folium\n",
    "    import folium\n",
    "    from folium.plugins import MarkerCluster\n",
    "import datetime\n",
    "!pip install plotly-geo"
   ]
  },
  {
   "cell_type": "code",
   "execution_count": null,
   "metadata": {},
   "outputs": [],
   "source": [
    "df = pd.read_csv('combined_df.csv').iloc[:,1:]\n"
   ]
  },
  {
   "cell_type": "code",
   "execution_count": null,
   "metadata": {},
   "outputs": [],
   "source": [
    "df['POOFips'] = df['POOFips'].apply(lambda x:'0'+str(int(x)) if int(x)<10000 else str(int(x)))"
   ]
  },
  {
   "cell_type": "code",
   "execution_count": null,
   "metadata": {},
   "outputs": [],
   "source": [
    "df_AZ = df[df['POOState']=='US-AZ'].drop(columns = ['POOState']).dropna(how = 'any').sort_values(by = ['StartYear','StartMonth','POOFips'])\n",
    "df_MT = df[df['POOState']=='US-MT'].drop(columns = ['POOState']).dropna(how = 'any').sort_values(by = ['StartYear','StartMonth','POOFips'])\n",
    "df_OR = df[df['POOState']=='US-OR'].drop(columns = ['POOState']).dropna(how = 'any').sort_values(by = ['StartYear','StartMonth','POOFips'])\n",
    "df_UT = df[df['POOState']=='US-UT'].drop(columns = ['POOState']).dropna(how = 'any').sort_values(by = ['StartYear','StartMonth','POOFips'])\n",
    "df_WY = df[df['POOState']=='US-WY'].drop(columns = ['POOState']).dropna(how = 'any').sort_values(by = ['StartYear','StartMonth','POOFips'])\n",
    "df_CO = df[df['POOState']=='US-CO'].drop(columns = ['POOState']).dropna(how = 'any').sort_values(by = ['StartYear','StartMonth','POOFips'])\n",
    "df_NM = df[df['POOState']== 'US-NM'].drop(columns = ['POOState']).dropna(how = 'any').sort_values(by = ['StartYear','StartMonth','POOFips'])\n",
    "df_TX = df[df['POOState']== 'US-TX'].drop(columns = ['POOState']).dropna(how = 'any').sort_values(by = ['StartYear','StartMonth','POOFips'])\n"
   ]
  },
  {
   "cell_type": "code",
   "execution_count": null,
   "metadata": {},
   "outputs": [],
   "source": []
  },
  {
   "cell_type": "code",
   "execution_count": null,
   "metadata": {},
   "outputs": [],
   "source": []
  },
  {
   "cell_type": "code",
   "execution_count": null,
   "metadata": {},
   "outputs": [],
   "source": [
    "import plotly.express as px\n",
    "import plotly as py, plotly.io as pio\n",
    "import plotly.graph_objects as go\n",
    "from urllib.request import urlopen\n",
    "import json\n",
    "with urlopen('https://raw.githubusercontent.com/plotly/datasets/master/geojson-counties-fips.json') as response:\n",
    "    counties = json.load(response)\n",
    "df_temp = df_TX[df_TX['StartYear']>2018]\n",
    "df_temp[['DiscoveryAcres','Temp','Rainfall']] =  df_temp[['DiscoveryAcres','Temp','Rainfall']].multiply(1/4)\n",
    "df_test = df_temp[['StartMonth','DiscoveryAcres','POOFips',\n",
    "                   'Temp','Rainfall']].groupby(['StartMonth',\n",
    "                                                'POOFips']).agg({'DiscoveryAcres':'sum',\n",
    "                                                                 'Temp':'mean','Rainfall':'mean'}).reset_index()\n",
    "df_test[['Temp','Rainfall']] = df_test[['Temp','Rainfall']].round(2)\n",
    "fig = px.choropleth(df_test,\n",
    "                    geojson=counties,\n",
    "                    color = 'DiscoveryAcres',\n",
    "                    color_continuous_scale = 'Reds',\n",
    "                    locations= 'POOFips',\n",
    "                    range_color =[0,200],\n",
    "                    scope = 'usa',\n",
    "                    hover_data = ['DiscoveryAcres','Rainfall','Temp'],\n",
    "                    animation_frame = 'StartMonth')\n",
    "fig.update_geos(resolution=50,fitbounds='locations', visible=False,\n",
    "    showsubunits=True, subunitcolor=\"Black\", subunitwidth=3)\n",
    "fig.update_layout(title={'text': \"Texas\", 'x': 0.49, 'y': 0.95})\n",
    "import plotly.io as pio\n",
    "pio.write_html(fig,'TX_wildfire.html')"
   ]
  },
  {
   "cell_type": "code",
   "execution_count": null,
   "metadata": {},
   "outputs": [],
   "source": [
    "df_temp = df[df['StartYear']>2018]\n",
    "df_temp[['DiscoveryAcres']] =  df_temp[['DiscoveryAcres']].multiply(1/4)\n",
    "df_test = df_temp[['StartMonth','DiscoveryAcres','POOFips',\n",
    "                   'Temp','Rainfall','Max_Temp','Total_Month']].groupby(['StartMonth',\n",
    "                                                'POOFips']).agg({'DiscoveryAcres':'sum',\n",
    "                                                                 'Temp':'mean','Rainfall':'mean',\n",
    "                                                                 'Max_Temp':'mean','Total_Month':'mean'}).reset_index()\n",
    "fig2 = px.choropleth(df.dropna(how = 'any').sort_values(by = 'StartMonth'),\n",
    "                    geojson = counties,\n",
    "                    color = 'Total_Month',\n",
    "                    color_continuous_scale = 'Reds',\n",
    "                    locations = 'POOFips',\n",
    "                    range_color =[0,6],\n",
    "                    scope = 'usa',\n",
    "                    hover_data = ['DiscoveryAcres','Rainfall','Temp','Max_Temp','FireCause'],\n",
    "                    animation_frame = 'StartMonth')\n",
    "fig2.update_layout(title={'text': \"Duration_of_wildfire\", 'x': 0.49, 'y': 0.95})\n",
    "pio.write_html(fig2,'duration_wf.html')"
   ]
  },
  {
   "cell_type": "code",
   "execution_count": null,
   "metadata": {},
   "outputs": [],
   "source": []
  },
  {
   "cell_type": "code",
   "execution_count": null,
   "metadata": {},
   "outputs": [],
   "source": []
  },
  {
   "cell_type": "code",
   "execution_count": null,
   "metadata": {},
   "outputs": [],
   "source": []
  },
  {
   "cell_type": "code",
   "execution_count": null,
   "metadata": {},
   "outputs": [],
   "source": []
  },
  {
   "cell_type": "code",
   "execution_count": null,
   "metadata": {},
   "outputs": [],
   "source": []
  },
  {
   "cell_type": "code",
   "execution_count": null,
   "metadata": {},
   "outputs": [],
   "source": []
  },
  {
   "cell_type": "code",
   "execution_count": null,
   "metadata": {},
   "outputs": [],
   "source": [
    "big_df = pd.read_csv('big_df.csv').iloc[:,1:].drop(columns = ['Geo Point'])\n",
    "#Make FIPS uniform with 5 numbers\n",
    "big_df['POOFips'] = big_df['POOFips'].apply(lambda x:'0'+str(int(x)) if int(x)<10000 else str(int(x)))"
   ]
  },
  {
   "cell_type": "code",
   "execution_count": null,
   "metadata": {},
   "outputs": [],
   "source": [
    "def freq_wfire(big_df,state,yr1 = 2019, yr2=2022):\n",
    "  '''\n",
    "  Input: dataframe, state, year range.\n",
    "  Output: list of counties where wildfires are very frequent, for the given state, over the years\n",
    "  '''\n",
    "  #Store all counties\n",
    "  county_list = big_df[big_df['POOState']==state]['POOFips'].unique().tolist()\n",
    "  #for each year, find intersection with the counties with high wfire frequency\n",
    "  for yr in range(yr1,yr2+1):\n",
    "    c_list = big_df[(big_df['POOState']==state) &(big_df['StartYear']==yr)  ]['POOFips'].value_counts().nlargest(15).index.tolist()\n",
    "    county_list = set(county_list).intersection(c_list)\n",
    "  #return the list of counties\n",
    "  return list(county_list)"
   ]
  },
  {
   "cell_type": "code",
   "execution_count": 237,
   "metadata": {},
   "outputs": [],
   "source": [
    "#Download packages if not present\n",
    "try:\n",
    "    import gurobipy as gp\n",
    "    from gurobipy import GRB\n",
    "except:\n",
    "    %pip install gurobipy\n",
    "    import gurobipy as gp\n",
    "    from gurobipy import GRB\n",
    "\n",
    "def opt_station_local(county_data):\n",
    "    county_data = county_data[county_data['DiscoveryAcres']>1]\n",
    "    locations_df = county_data[['Y','X']]\n",
    "    locations = {loc_id: (x, y) for loc_id, x, y in zip(locations_df.index.tolist(), locations_df['X'], locations_df['Y'])}\n",
    "    location_to_idx = {i: idx for idx, i in enumerate(locations)}\n",
    "    idx_to_location = {idx: i for i, idx in location_to_idx.items()}\n",
    "\n",
    "    n = len(location_to_idx) \n",
    "    m = 15 # number of potential station locations\n",
    "    k = 15 # max number of locations each station can serve\n",
    "    max_stations = int(np.log(county_data['ALAND'].iloc[0])) +3 # max number of stations to build in a county\n",
    "\n",
    "    stations = [(i, j) for i in range(m) for j in range(m)]\n",
    "\n",
    "    d = {(idx,j): math.sqrt((locations[i][0]-stations[j][0])**2 + (locations[i][1]-stations[j][1])**2) for i,idx in location_to_idx.items() for j in range(m)}\n",
    "    #In order to extend the project to include cost based on location, one can also define a cost vector\n",
    "    #Update the objective function accordingly and we will get a complex model \n",
    "    #This could be made more dynamic as well if required.\n",
    "    #c = {j: 10 for j in stations}\n",
    "\n",
    "    # Create model\n",
    "    #Need to use licensed version for bigger models\n",
    "    model = gp.Model('minimum cost flow')\n",
    "    model.setParam('OutputFlag',0)\n",
    "    # Create variables\n",
    "    x = model.addVars(n, m, vtype=GRB.BINARY, name='x')\n",
    "    y = model.addVars(m, vtype=GRB.BINARY, name='y')\n",
    "\n",
    "    # Set objective function\n",
    "    obj = gp.quicksum(d[i,j] * x[i,j] for i in range(n) for j in range(m))\n",
    "    model.setObjective(obj, GRB.MINIMIZE)\n",
    "\n",
    "    # Add constraints\n",
    "    model.addConstrs(gp.quicksum(x[i,j] for j in range(m)) == 1 for i in range(n)) # each location is served by one station\n",
    "    model.addConstrs(gp.quicksum(x[i,j] for i in range(n)) <= k * y[j] for j in range(m)) # each station serves at most k locations\n",
    "    model.addConstr(gp.quicksum(y[j] for j in range(m)) <= max_stations) # at most max_stations stations are built\n",
    "\n",
    "    # Optimize model\n",
    "    model.optimize()\n",
    "\n",
    "    # Print solution\n",
    "    if model.status == GRB.OPTIMAL:\n",
    "        station_coords = []\n",
    "        for j in range(m):\n",
    "            if y[j].x > 0.5:\n",
    "                locations_served = [i for i in range(n) if x[i,j].x > 0.5]\n",
    "                station_coords.append(stations[j])\n",
    "    else:\n",
    "        print('No solution found.')\n",
    "        return\n",
    "    station_coord = []\n",
    "    station_idx = [i for i,x in enumerate(stations) if x in station_coords]\n",
    "    for j in station_idx:\n",
    "        assigned_loc = [i for i in range(n) if np.abs(x[i,j].X-1).round(1)==0]\n",
    "        if len(assigned_loc)==0:\n",
    "            continue\n",
    "        else:\n",
    "            dist = 100\n",
    "            station_lat = sum(locations_df.loc[idx_to_location[i]][0] for i in assigned_loc)/len(assigned_loc)\n",
    "            station_lon = sum(locations_df.loc[idx_to_location[i]][1] for i in assigned_loc)/len(assigned_loc)\n",
    "            for p in station_coord:\n",
    "                val = np.abs(p[0] -station_lat) +np.abs(p[1]-station_lon)\n",
    "                dist = min(dist,val)\n",
    "            if dist<0.01:\n",
    "                continue\n",
    "            else:\n",
    "                station_coord.append((station_lat,station_lon))\n",
    "    return station_coord\n",
    "\n"
   ]
  },
  {
   "cell_type": "code",
   "execution_count": 245,
   "metadata": {},
   "outputs": [],
   "source": [
    "def graph_county_station_location(big_df,county):\n",
    "    county_data = big_df[big_df['POOFips']==county][['X','Y','DiscoveryAcres','StartYear','StartMonth','ALAND']].sort_values(by = 'StartYear')\n",
    "    fig = px.scatter(county_data, x ='Y',y = 'X',\n",
    "                    color= 'DiscoveryAcres', color_continuous_scale='Reds',\n",
    "                    animation_frame = 'StartYear')\n",
    "    station_coord = opt_station_local(county_data)\n",
    "    points = pd.DataFrame(station_coord,columns = ['x','y'])\n",
    "    for frame in fig.frames:\n",
    "        frame.data[0].update({'x': list(frame.data[0].x) + list(points.x),\n",
    "                              'y': list(frame.data[0].y) + list(points.y)})\n",
    "        frame.data[0]['mode'] = '+'.join(['markers' for i in range(len(frame.data[0]['x']))])\n",
    " \n",
    "        sym_list = list(['circle']*(len(frame.data[0]['x'])-len(station_coord) ))\n",
    "        for i in range(len(station_coord)):\n",
    "            sym_list.append('star')\n",
    "        frame.data[0]['marker']['symbol'] = sym_list\n",
    "\n",
    "    fig.update_layout(yaxis_range=[min(min(county_data['X'].dropna()), min(points['y']))-0.2,max(max(county_data['X'].dropna()), max(points['y']))+0.2],\n",
    "                      xaxis_range = [min(min(county_data['Y'].dropna()), min(points['x']))-0.2, max(max(county_data['Y'].dropna()), max(points['x'])) +0.2])\n",
    "    fig.update_traces(marker=dict(size=20,\n",
    "                                  line=dict(width=2,\n",
    "                                            color='DarkSlateGrey'),\n",
    "                                  reversescale = True),\n",
    "                      selector=dict(mode='markers'))\n",
    "    \n",
    "    fig.show()\n",
    "    return station_coord"
   ]
  },
  {
   "cell_type": "code",
   "execution_count": 239,
   "metadata": {},
   "outputs": [],
   "source": [
    "big_df['L_Area_by_pop_2022'] = big_df['ALAND']/big_df['POP_2022']\n",
    "def normalize(big_df,column):\n",
    "    return (big_df[column]-min(big_df[column]))/(max(big_df[column])-min(big_df[column]))\n",
    "\n",
    "big_df['WFL'] = 10 - normalize(big_df,'DiscoveryAcres') - normalize(big_df.fillna(0.1),'Rainfall') + normalize(big_df.fillna(50),'Max_Temp') - 0.01*(big_df['StartMonth']-12)*(4+big_df['StartMonth']) + 0.1*big_df['L_Area_by_pop_2022'].fillna(0.001) \n",
    "big_df['WFL'] = big_df['WFL'] + 0.01*(max(big_df['Y'])-big_df['Y']) \n",
    "#Normalization of score\n",
    "big_df['WFL'] = big_df['Score']/100"
   ]
  },
  {
   "cell_type": "code",
   "execution_count": 241,
   "metadata": {},
   "outputs": [
    {
     "data": {
      "text/plain": [
       "Index(['06037', '06065', '04005', '06071', '06019', '06089', '38005', '06073',\n",
       "       '27007', '04007'],\n",
       "      dtype='object', name='POOFips')"
      ]
     },
     "execution_count": 241,
     "metadata": {},
     "output_type": "execute_result"
    }
   ],
   "source": [
    "#Top 10 most vulnerable counties\n",
    "top_ten_counties = big_df.groupby('POOFips').sum().sort_values(by = 'WFL', ascending = False)['WFL'][:10].index\n"
   ]
  },
  {
   "cell_type": "code",
   "execution_count": null,
   "metadata": {},
   "outputs": [],
   "source": []
  },
  {
   "cell_type": "code",
   "execution_count": null,
   "metadata": {
    "scrolled": true
   },
   "outputs": [],
   "source": [
    "station_coordinates = []\n",
    "Area_station = []\n",
    "for county in top_ten_counties:\n",
    "    try:\n",
    "        \n",
    "        Area.append([big_df[big_df['POOFips']==county]['ALAND'],len() ])\n",
    "        station_coordinates.extend(graph_county_station_location(big_df,county))\n",
    "    except:\n",
    "        continue"
   ]
  },
  {
   "cell_type": "code",
   "execution_count": 250,
   "metadata": {},
   "outputs": [
    {
     "data": {
      "application/vnd.plotly.v1+json": {
       "config": {
        "plotlyServerURL": "https://plot.ly"
       },
       "data": [
        {
         "hovertemplate": "StartYear=2019<br>Y=%{x}<br>X=%{y}<br>DiscoveryAcres=%{marker.color}<extra></extra>",
         "legendgroup": "",
         "marker": {
          "color": [
           300,
           1,
           2000,
           0.5,
           100,
           0.5
          ],
          "coloraxis": "coloraxis",
          "line": {
           "color": "DarkSlateGrey",
           "width": 2
          },
          "reversescale": true,
          "size": 20,
          "symbol": "circle"
         },
         "mode": "markers",
         "name": "",
         "orientation": "v",
         "showlegend": false,
         "type": "scatter",
         "x": [
          43.825246351000004,
          43.8222763520001,
          43.7147862950001,
          43.8124663510001,
          43.99583934,
          43.8130263510001
         ],
         "xaxis": "x",
         "y": [
          -112.020212226,
          -111.99961222200001,
          -112.52281231100001,
          -112.005612221,
          -112.329012319,
          -112.005412221
         ],
         "yaxis": "y"
        }
       ],
       "frames": [
        {
         "data": [
          {
           "hovertemplate": "StartYear=2019<br>Y=%{x}<br>X=%{y}<br>DiscoveryAcres=%{marker.color}<extra></extra>",
           "legendgroup": "",
           "marker": {
            "color": [
             300,
             1,
             2000,
             0.5,
             100,
             0.5
            ],
            "coloraxis": "coloraxis",
            "symbol": [
             "circle",
             "circle",
             "circle",
             "circle",
             "circle",
             "circle",
             "star"
            ]
           },
           "mode": "markers+markers+markers+markers+markers+markers+markers",
           "name": "",
           "orientation": "v",
           "showlegend": false,
           "type": "scatter",
           "x": [
            43.825246351000004,
            43.8222763520001,
            43.7147862950001,
            43.8124663510001,
            43.99583934,
            43.8130263510001,
            43.85421248028577
           ],
           "xaxis": "x",
           "y": [
            -112.020212226,
            -111.99961222200001,
            -112.52281231100001,
            -112.005612221,
            -112.329012319,
            -112.005412221,
            -112.19962655399999
           ],
           "yaxis": "y"
          }
         ],
         "name": "2019"
        },
        {
         "data": [
          {
           "hovertemplate": "StartYear=2020<br>Y=%{x}<br>X=%{y}<br>DiscoveryAcres=%{marker.color}<extra></extra>",
           "legendgroup": "",
           "marker": {
            "color": [
             50,
             0.3,
             0.5
            ],
            "coloraxis": "coloraxis",
            "symbol": [
             "circle",
             "circle",
             "circle",
             "star"
            ]
           },
           "mode": "markers+markers+markers+markers",
           "name": "",
           "orientation": "v",
           "showlegend": false,
           "type": "scatter",
           "x": [
            43.880106340000104,
            43.629856362000105,
            43.796132383999996,
            43.85421248028577
           ],
           "xaxis": "x",
           "y": [
            -112.196412272,
            -111.66861212100001,
            -112.175924659,
            -112.19962655399999
           ],
           "yaxis": "y"
          }
         ],
         "name": "2020"
        },
        {
         "data": [
          {
           "hovertemplate": "StartYear=2021<br>Y=%{x}<br>X=%{y}<br>DiscoveryAcres=%{marker.color}<extra></extra>",
           "legendgroup": "",
           "marker": {
            "color": [
             1,
             2.5,
             0.1,
             0.1
            ],
            "coloraxis": "coloraxis",
            "symbol": [
             "circle",
             "circle",
             "circle",
             "circle",
             "star"
            ]
           },
           "mode": "markers+markers+markers+markers+markers",
           "name": "",
           "orientation": "v",
           "showlegend": false,
           "type": "scatter",
           "x": [
            43.766674849,
            43.8283963480001,
            43.7885663490001,
            43.812886351,
            43.85421248028577
           ],
           "xaxis": "x",
           "y": [
            -112.060501727,
            -112.047612233,
            -112.001612216,
            -112.002912221,
            -112.19962655399999
           ],
           "yaxis": "y"
          }
         ],
         "name": "2021"
        },
        {
         "data": [
          {
           "hovertemplate": "StartYear=2022<br>Y=%{x}<br>X=%{y}<br>DiscoveryAcres=%{marker.color}<extra></extra>",
           "legendgroup": "",
           "marker": {
            "color": [
             1,
             10,
             3,
             0.1,
             1,
             1
            ],
            "coloraxis": "coloraxis",
            "symbol": [
             "circle",
             "circle",
             "circle",
             "circle",
             "circle",
             "circle",
             "star"
            ]
           },
           "mode": "markers+markers+markers+markers+markers+markers+markers",
           "name": "",
           "orientation": "v",
           "showlegend": false,
           "type": "scatter",
           "x": [
            43.7793063440001,
            43.826826354,
            43.9082863340001,
            43.781116345,
            43.8244963510001,
            43.953636341000006,
            43.85421248028577
           ],
           "xaxis": "x",
           "y": [
            -112.039712223,
            -111.98271221899999,
            -112.298612298,
            -112.03781222299999,
            -112.016012225,
            -112.26921229999999,
            -112.19962655399999
           ],
           "yaxis": "y"
          }
         ],
         "name": "2022"
        }
       ],
       "layout": {
        "coloraxis": {
         "colorbar": {
          "title": {
           "text": "DiscoveryAcres"
          }
         },
         "colorscale": [
          [
           0,
           "rgb(255,245,240)"
          ],
          [
           0.125,
           "rgb(254,224,210)"
          ],
          [
           0.25,
           "rgb(252,187,161)"
          ],
          [
           0.375,
           "rgb(252,146,114)"
          ],
          [
           0.5,
           "rgb(251,106,74)"
          ],
          [
           0.625,
           "rgb(239,59,44)"
          ],
          [
           0.75,
           "rgb(203,24,29)"
          ],
          [
           0.875,
           "rgb(165,15,21)"
          ],
          [
           1,
           "rgb(103,0,13)"
          ]
         ]
        },
        "legend": {
         "tracegroupgap": 0
        },
        "margin": {
         "t": 60
        },
        "sliders": [
         {
          "active": 0,
          "currentvalue": {
           "prefix": "StartYear="
          },
          "len": 0.9,
          "pad": {
           "b": 10,
           "t": 60
          },
          "steps": [
           {
            "args": [
             [
              "2019"
             ],
             {
              "frame": {
               "duration": 0,
               "redraw": false
              },
              "fromcurrent": true,
              "mode": "immediate",
              "transition": {
               "duration": 0,
               "easing": "linear"
              }
             }
            ],
            "label": "2019",
            "method": "animate"
           },
           {
            "args": [
             [
              "2020"
             ],
             {
              "frame": {
               "duration": 0,
               "redraw": false
              },
              "fromcurrent": true,
              "mode": "immediate",
              "transition": {
               "duration": 0,
               "easing": "linear"
              }
             }
            ],
            "label": "2020",
            "method": "animate"
           },
           {
            "args": [
             [
              "2021"
             ],
             {
              "frame": {
               "duration": 0,
               "redraw": false
              },
              "fromcurrent": true,
              "mode": "immediate",
              "transition": {
               "duration": 0,
               "easing": "linear"
              }
             }
            ],
            "label": "2021",
            "method": "animate"
           },
           {
            "args": [
             [
              "2022"
             ],
             {
              "frame": {
               "duration": 0,
               "redraw": false
              },
              "fromcurrent": true,
              "mode": "immediate",
              "transition": {
               "duration": 0,
               "easing": "linear"
              }
             }
            ],
            "label": "2022",
            "method": "animate"
           }
          ],
          "x": 0.1,
          "xanchor": "left",
          "y": 0,
          "yanchor": "top"
         }
        ],
        "template": {
         "data": {
          "bar": [
           {
            "error_x": {
             "color": "#2a3f5f"
            },
            "error_y": {
             "color": "#2a3f5f"
            },
            "marker": {
             "line": {
              "color": "#E5ECF6",
              "width": 0.5
             },
             "pattern": {
              "fillmode": "overlay",
              "size": 10,
              "solidity": 0.2
             }
            },
            "type": "bar"
           }
          ],
          "barpolar": [
           {
            "marker": {
             "line": {
              "color": "#E5ECF6",
              "width": 0.5
             },
             "pattern": {
              "fillmode": "overlay",
              "size": 10,
              "solidity": 0.2
             }
            },
            "type": "barpolar"
           }
          ],
          "carpet": [
           {
            "aaxis": {
             "endlinecolor": "#2a3f5f",
             "gridcolor": "white",
             "linecolor": "white",
             "minorgridcolor": "white",
             "startlinecolor": "#2a3f5f"
            },
            "baxis": {
             "endlinecolor": "#2a3f5f",
             "gridcolor": "white",
             "linecolor": "white",
             "minorgridcolor": "white",
             "startlinecolor": "#2a3f5f"
            },
            "type": "carpet"
           }
          ],
          "choropleth": [
           {
            "colorbar": {
             "outlinewidth": 0,
             "ticks": ""
            },
            "type": "choropleth"
           }
          ],
          "contour": [
           {
            "colorbar": {
             "outlinewidth": 0,
             "ticks": ""
            },
            "colorscale": [
             [
              0,
              "#0d0887"
             ],
             [
              0.1111111111111111,
              "#46039f"
             ],
             [
              0.2222222222222222,
              "#7201a8"
             ],
             [
              0.3333333333333333,
              "#9c179e"
             ],
             [
              0.4444444444444444,
              "#bd3786"
             ],
             [
              0.5555555555555556,
              "#d8576b"
             ],
             [
              0.6666666666666666,
              "#ed7953"
             ],
             [
              0.7777777777777778,
              "#fb9f3a"
             ],
             [
              0.8888888888888888,
              "#fdca26"
             ],
             [
              1,
              "#f0f921"
             ]
            ],
            "type": "contour"
           }
          ],
          "contourcarpet": [
           {
            "colorbar": {
             "outlinewidth": 0,
             "ticks": ""
            },
            "type": "contourcarpet"
           }
          ],
          "heatmap": [
           {
            "colorbar": {
             "outlinewidth": 0,
             "ticks": ""
            },
            "colorscale": [
             [
              0,
              "#0d0887"
             ],
             [
              0.1111111111111111,
              "#46039f"
             ],
             [
              0.2222222222222222,
              "#7201a8"
             ],
             [
              0.3333333333333333,
              "#9c179e"
             ],
             [
              0.4444444444444444,
              "#bd3786"
             ],
             [
              0.5555555555555556,
              "#d8576b"
             ],
             [
              0.6666666666666666,
              "#ed7953"
             ],
             [
              0.7777777777777778,
              "#fb9f3a"
             ],
             [
              0.8888888888888888,
              "#fdca26"
             ],
             [
              1,
              "#f0f921"
             ]
            ],
            "type": "heatmap"
           }
          ],
          "heatmapgl": [
           {
            "colorbar": {
             "outlinewidth": 0,
             "ticks": ""
            },
            "colorscale": [
             [
              0,
              "#0d0887"
             ],
             [
              0.1111111111111111,
              "#46039f"
             ],
             [
              0.2222222222222222,
              "#7201a8"
             ],
             [
              0.3333333333333333,
              "#9c179e"
             ],
             [
              0.4444444444444444,
              "#bd3786"
             ],
             [
              0.5555555555555556,
              "#d8576b"
             ],
             [
              0.6666666666666666,
              "#ed7953"
             ],
             [
              0.7777777777777778,
              "#fb9f3a"
             ],
             [
              0.8888888888888888,
              "#fdca26"
             ],
             [
              1,
              "#f0f921"
             ]
            ],
            "type": "heatmapgl"
           }
          ],
          "histogram": [
           {
            "marker": {
             "pattern": {
              "fillmode": "overlay",
              "size": 10,
              "solidity": 0.2
             }
            },
            "type": "histogram"
           }
          ],
          "histogram2d": [
           {
            "colorbar": {
             "outlinewidth": 0,
             "ticks": ""
            },
            "colorscale": [
             [
              0,
              "#0d0887"
             ],
             [
              0.1111111111111111,
              "#46039f"
             ],
             [
              0.2222222222222222,
              "#7201a8"
             ],
             [
              0.3333333333333333,
              "#9c179e"
             ],
             [
              0.4444444444444444,
              "#bd3786"
             ],
             [
              0.5555555555555556,
              "#d8576b"
             ],
             [
              0.6666666666666666,
              "#ed7953"
             ],
             [
              0.7777777777777778,
              "#fb9f3a"
             ],
             [
              0.8888888888888888,
              "#fdca26"
             ],
             [
              1,
              "#f0f921"
             ]
            ],
            "type": "histogram2d"
           }
          ],
          "histogram2dcontour": [
           {
            "colorbar": {
             "outlinewidth": 0,
             "ticks": ""
            },
            "colorscale": [
             [
              0,
              "#0d0887"
             ],
             [
              0.1111111111111111,
              "#46039f"
             ],
             [
              0.2222222222222222,
              "#7201a8"
             ],
             [
              0.3333333333333333,
              "#9c179e"
             ],
             [
              0.4444444444444444,
              "#bd3786"
             ],
             [
              0.5555555555555556,
              "#d8576b"
             ],
             [
              0.6666666666666666,
              "#ed7953"
             ],
             [
              0.7777777777777778,
              "#fb9f3a"
             ],
             [
              0.8888888888888888,
              "#fdca26"
             ],
             [
              1,
              "#f0f921"
             ]
            ],
            "type": "histogram2dcontour"
           }
          ],
          "mesh3d": [
           {
            "colorbar": {
             "outlinewidth": 0,
             "ticks": ""
            },
            "type": "mesh3d"
           }
          ],
          "parcoords": [
           {
            "line": {
             "colorbar": {
              "outlinewidth": 0,
              "ticks": ""
             }
            },
            "type": "parcoords"
           }
          ],
          "pie": [
           {
            "automargin": true,
            "type": "pie"
           }
          ],
          "scatter": [
           {
            "fillpattern": {
             "fillmode": "overlay",
             "size": 10,
             "solidity": 0.2
            },
            "type": "scatter"
           }
          ],
          "scatter3d": [
           {
            "line": {
             "colorbar": {
              "outlinewidth": 0,
              "ticks": ""
             }
            },
            "marker": {
             "colorbar": {
              "outlinewidth": 0,
              "ticks": ""
             }
            },
            "type": "scatter3d"
           }
          ],
          "scattercarpet": [
           {
            "marker": {
             "colorbar": {
              "outlinewidth": 0,
              "ticks": ""
             }
            },
            "type": "scattercarpet"
           }
          ],
          "scattergeo": [
           {
            "marker": {
             "colorbar": {
              "outlinewidth": 0,
              "ticks": ""
             }
            },
            "type": "scattergeo"
           }
          ],
          "scattergl": [
           {
            "marker": {
             "colorbar": {
              "outlinewidth": 0,
              "ticks": ""
             }
            },
            "type": "scattergl"
           }
          ],
          "scattermapbox": [
           {
            "marker": {
             "colorbar": {
              "outlinewidth": 0,
              "ticks": ""
             }
            },
            "type": "scattermapbox"
           }
          ],
          "scatterpolar": [
           {
            "marker": {
             "colorbar": {
              "outlinewidth": 0,
              "ticks": ""
             }
            },
            "type": "scatterpolar"
           }
          ],
          "scatterpolargl": [
           {
            "marker": {
             "colorbar": {
              "outlinewidth": 0,
              "ticks": ""
             }
            },
            "type": "scatterpolargl"
           }
          ],
          "scatterternary": [
           {
            "marker": {
             "colorbar": {
              "outlinewidth": 0,
              "ticks": ""
             }
            },
            "type": "scatterternary"
           }
          ],
          "surface": [
           {
            "colorbar": {
             "outlinewidth": 0,
             "ticks": ""
            },
            "colorscale": [
             [
              0,
              "#0d0887"
             ],
             [
              0.1111111111111111,
              "#46039f"
             ],
             [
              0.2222222222222222,
              "#7201a8"
             ],
             [
              0.3333333333333333,
              "#9c179e"
             ],
             [
              0.4444444444444444,
              "#bd3786"
             ],
             [
              0.5555555555555556,
              "#d8576b"
             ],
             [
              0.6666666666666666,
              "#ed7953"
             ],
             [
              0.7777777777777778,
              "#fb9f3a"
             ],
             [
              0.8888888888888888,
              "#fdca26"
             ],
             [
              1,
              "#f0f921"
             ]
            ],
            "type": "surface"
           }
          ],
          "table": [
           {
            "cells": {
             "fill": {
              "color": "#EBF0F8"
             },
             "line": {
              "color": "white"
             }
            },
            "header": {
             "fill": {
              "color": "#C8D4E3"
             },
             "line": {
              "color": "white"
             }
            },
            "type": "table"
           }
          ]
         },
         "layout": {
          "annotationdefaults": {
           "arrowcolor": "#2a3f5f",
           "arrowhead": 0,
           "arrowwidth": 1
          },
          "autotypenumbers": "strict",
          "coloraxis": {
           "colorbar": {
            "outlinewidth": 0,
            "ticks": ""
           }
          },
          "colorscale": {
           "diverging": [
            [
             0,
             "#8e0152"
            ],
            [
             0.1,
             "#c51b7d"
            ],
            [
             0.2,
             "#de77ae"
            ],
            [
             0.3,
             "#f1b6da"
            ],
            [
             0.4,
             "#fde0ef"
            ],
            [
             0.5,
             "#f7f7f7"
            ],
            [
             0.6,
             "#e6f5d0"
            ],
            [
             0.7,
             "#b8e186"
            ],
            [
             0.8,
             "#7fbc41"
            ],
            [
             0.9,
             "#4d9221"
            ],
            [
             1,
             "#276419"
            ]
           ],
           "sequential": [
            [
             0,
             "#0d0887"
            ],
            [
             0.1111111111111111,
             "#46039f"
            ],
            [
             0.2222222222222222,
             "#7201a8"
            ],
            [
             0.3333333333333333,
             "#9c179e"
            ],
            [
             0.4444444444444444,
             "#bd3786"
            ],
            [
             0.5555555555555556,
             "#d8576b"
            ],
            [
             0.6666666666666666,
             "#ed7953"
            ],
            [
             0.7777777777777778,
             "#fb9f3a"
            ],
            [
             0.8888888888888888,
             "#fdca26"
            ],
            [
             1,
             "#f0f921"
            ]
           ],
           "sequentialminus": [
            [
             0,
             "#0d0887"
            ],
            [
             0.1111111111111111,
             "#46039f"
            ],
            [
             0.2222222222222222,
             "#7201a8"
            ],
            [
             0.3333333333333333,
             "#9c179e"
            ],
            [
             0.4444444444444444,
             "#bd3786"
            ],
            [
             0.5555555555555556,
             "#d8576b"
            ],
            [
             0.6666666666666666,
             "#ed7953"
            ],
            [
             0.7777777777777778,
             "#fb9f3a"
            ],
            [
             0.8888888888888888,
             "#fdca26"
            ],
            [
             1,
             "#f0f921"
            ]
           ]
          },
          "colorway": [
           "#636efa",
           "#EF553B",
           "#00cc96",
           "#ab63fa",
           "#FFA15A",
           "#19d3f3",
           "#FF6692",
           "#B6E880",
           "#FF97FF",
           "#FECB52"
          ],
          "font": {
           "color": "#2a3f5f"
          },
          "geo": {
           "bgcolor": "white",
           "lakecolor": "white",
           "landcolor": "#E5ECF6",
           "showlakes": true,
           "showland": true,
           "subunitcolor": "white"
          },
          "hoverlabel": {
           "align": "left"
          },
          "hovermode": "closest",
          "mapbox": {
           "style": "light"
          },
          "paper_bgcolor": "white",
          "plot_bgcolor": "#E5ECF6",
          "polar": {
           "angularaxis": {
            "gridcolor": "white",
            "linecolor": "white",
            "ticks": ""
           },
           "bgcolor": "#E5ECF6",
           "radialaxis": {
            "gridcolor": "white",
            "linecolor": "white",
            "ticks": ""
           }
          },
          "scene": {
           "xaxis": {
            "backgroundcolor": "#E5ECF6",
            "gridcolor": "white",
            "gridwidth": 2,
            "linecolor": "white",
            "showbackground": true,
            "ticks": "",
            "zerolinecolor": "white"
           },
           "yaxis": {
            "backgroundcolor": "#E5ECF6",
            "gridcolor": "white",
            "gridwidth": 2,
            "linecolor": "white",
            "showbackground": true,
            "ticks": "",
            "zerolinecolor": "white"
           },
           "zaxis": {
            "backgroundcolor": "#E5ECF6",
            "gridcolor": "white",
            "gridwidth": 2,
            "linecolor": "white",
            "showbackground": true,
            "ticks": "",
            "zerolinecolor": "white"
           }
          },
          "shapedefaults": {
           "line": {
            "color": "#2a3f5f"
           }
          },
          "ternary": {
           "aaxis": {
            "gridcolor": "white",
            "linecolor": "white",
            "ticks": ""
           },
           "baxis": {
            "gridcolor": "white",
            "linecolor": "white",
            "ticks": ""
           },
           "bgcolor": "#E5ECF6",
           "caxis": {
            "gridcolor": "white",
            "linecolor": "white",
            "ticks": ""
           }
          },
          "title": {
           "x": 0.05
          },
          "xaxis": {
           "automargin": true,
           "gridcolor": "white",
           "linecolor": "white",
           "ticks": "",
           "title": {
            "standoff": 15
           },
           "zerolinecolor": "white",
           "zerolinewidth": 2
          },
          "yaxis": {
           "automargin": true,
           "gridcolor": "white",
           "linecolor": "white",
           "ticks": "",
           "title": {
            "standoff": 15
           },
           "zerolinecolor": "white",
           "zerolinewidth": 2
          }
         }
        },
        "updatemenus": [
         {
          "buttons": [
           {
            "args": [
             null,
             {
              "frame": {
               "duration": 500,
               "redraw": false
              },
              "fromcurrent": true,
              "mode": "immediate",
              "transition": {
               "duration": 500,
               "easing": "linear"
              }
             }
            ],
            "label": "&#9654;",
            "method": "animate"
           },
           {
            "args": [
             [
              null
             ],
             {
              "frame": {
               "duration": 0,
               "redraw": false
              },
              "fromcurrent": true,
              "mode": "immediate",
              "transition": {
               "duration": 0,
               "easing": "linear"
              }
             }
            ],
            "label": "&#9724;",
            "method": "animate"
           }
          ],
          "direction": "left",
          "pad": {
           "r": 10,
           "t": 70
          },
          "showactive": false,
          "type": "buttons",
          "x": 0.1,
          "xanchor": "right",
          "y": 0,
          "yanchor": "top"
         }
        ],
        "xaxis": {
         "anchor": "y",
         "domain": [
          0,
          1
         ],
         "range": [
          43.4298563620001,
          44.195839340000006
         ],
         "title": {
          "text": "Y"
         }
        },
        "yaxis": {
         "anchor": "x",
         "domain": [
          0,
          1
         ],
         "range": [
          -112.72281231100001,
          -111.468612121
         ],
         "title": {
          "text": "X"
         }
        }
       }
      },
      "text/html": [
       "<div>                            <div id=\"1ca91f23-7b67-4e9b-a4cc-4b30888d0e83\" class=\"plotly-graph-div\" style=\"height:525px; width:100%;\"></div>            <script type=\"text/javascript\">                require([\"plotly\"], function(Plotly) {                    window.PLOTLYENV=window.PLOTLYENV || {};                                    if (document.getElementById(\"1ca91f23-7b67-4e9b-a4cc-4b30888d0e83\")) {                    Plotly.newPlot(                        \"1ca91f23-7b67-4e9b-a4cc-4b30888d0e83\",                        [{\"hovertemplate\":\"StartYear=2019<br>Y=%{x}<br>X=%{y}<br>DiscoveryAcres=%{marker.color}<extra></extra>\",\"legendgroup\":\"\",\"marker\":{\"color\":[300.0,1.0,2000.0,0.5,100.0,0.5],\"coloraxis\":\"coloraxis\",\"symbol\":\"circle\",\"line\":{\"color\":\"DarkSlateGrey\",\"width\":2},\"reversescale\":true,\"size\":20},\"mode\":\"markers\",\"name\":\"\",\"orientation\":\"v\",\"showlegend\":false,\"x\":[43.825246351000004,43.8222763520001,43.7147862950001,43.8124663510001,43.99583934,43.8130263510001],\"xaxis\":\"x\",\"y\":[-112.020212226,-111.99961222200001,-112.52281231100001,-112.005612221,-112.329012319,-112.005412221],\"yaxis\":\"y\",\"type\":\"scatter\"}],                        {\"template\":{\"data\":{\"histogram2dcontour\":[{\"type\":\"histogram2dcontour\",\"colorbar\":{\"outlinewidth\":0,\"ticks\":\"\"},\"colorscale\":[[0.0,\"#0d0887\"],[0.1111111111111111,\"#46039f\"],[0.2222222222222222,\"#7201a8\"],[0.3333333333333333,\"#9c179e\"],[0.4444444444444444,\"#bd3786\"],[0.5555555555555556,\"#d8576b\"],[0.6666666666666666,\"#ed7953\"],[0.7777777777777778,\"#fb9f3a\"],[0.8888888888888888,\"#fdca26\"],[1.0,\"#f0f921\"]]}],\"choropleth\":[{\"type\":\"choropleth\",\"colorbar\":{\"outlinewidth\":0,\"ticks\":\"\"}}],\"histogram2d\":[{\"type\":\"histogram2d\",\"colorbar\":{\"outlinewidth\":0,\"ticks\":\"\"},\"colorscale\":[[0.0,\"#0d0887\"],[0.1111111111111111,\"#46039f\"],[0.2222222222222222,\"#7201a8\"],[0.3333333333333333,\"#9c179e\"],[0.4444444444444444,\"#bd3786\"],[0.5555555555555556,\"#d8576b\"],[0.6666666666666666,\"#ed7953\"],[0.7777777777777778,\"#fb9f3a\"],[0.8888888888888888,\"#fdca26\"],[1.0,\"#f0f921\"]]}],\"heatmap\":[{\"type\":\"heatmap\",\"colorbar\":{\"outlinewidth\":0,\"ticks\":\"\"},\"colorscale\":[[0.0,\"#0d0887\"],[0.1111111111111111,\"#46039f\"],[0.2222222222222222,\"#7201a8\"],[0.3333333333333333,\"#9c179e\"],[0.4444444444444444,\"#bd3786\"],[0.5555555555555556,\"#d8576b\"],[0.6666666666666666,\"#ed7953\"],[0.7777777777777778,\"#fb9f3a\"],[0.8888888888888888,\"#fdca26\"],[1.0,\"#f0f921\"]]}],\"heatmapgl\":[{\"type\":\"heatmapgl\",\"colorbar\":{\"outlinewidth\":0,\"ticks\":\"\"},\"colorscale\":[[0.0,\"#0d0887\"],[0.1111111111111111,\"#46039f\"],[0.2222222222222222,\"#7201a8\"],[0.3333333333333333,\"#9c179e\"],[0.4444444444444444,\"#bd3786\"],[0.5555555555555556,\"#d8576b\"],[0.6666666666666666,\"#ed7953\"],[0.7777777777777778,\"#fb9f3a\"],[0.8888888888888888,\"#fdca26\"],[1.0,\"#f0f921\"]]}],\"contourcarpet\":[{\"type\":\"contourcarpet\",\"colorbar\":{\"outlinewidth\":0,\"ticks\":\"\"}}],\"contour\":[{\"type\":\"contour\",\"colorbar\":{\"outlinewidth\":0,\"ticks\":\"\"},\"colorscale\":[[0.0,\"#0d0887\"],[0.1111111111111111,\"#46039f\"],[0.2222222222222222,\"#7201a8\"],[0.3333333333333333,\"#9c179e\"],[0.4444444444444444,\"#bd3786\"],[0.5555555555555556,\"#d8576b\"],[0.6666666666666666,\"#ed7953\"],[0.7777777777777778,\"#fb9f3a\"],[0.8888888888888888,\"#fdca26\"],[1.0,\"#f0f921\"]]}],\"surface\":[{\"type\":\"surface\",\"colorbar\":{\"outlinewidth\":0,\"ticks\":\"\"},\"colorscale\":[[0.0,\"#0d0887\"],[0.1111111111111111,\"#46039f\"],[0.2222222222222222,\"#7201a8\"],[0.3333333333333333,\"#9c179e\"],[0.4444444444444444,\"#bd3786\"],[0.5555555555555556,\"#d8576b\"],[0.6666666666666666,\"#ed7953\"],[0.7777777777777778,\"#fb9f3a\"],[0.8888888888888888,\"#fdca26\"],[1.0,\"#f0f921\"]]}],\"mesh3d\":[{\"type\":\"mesh3d\",\"colorbar\":{\"outlinewidth\":0,\"ticks\":\"\"}}],\"scatter\":[{\"fillpattern\":{\"fillmode\":\"overlay\",\"size\":10,\"solidity\":0.2},\"type\":\"scatter\"}],\"parcoords\":[{\"type\":\"parcoords\",\"line\":{\"colorbar\":{\"outlinewidth\":0,\"ticks\":\"\"}}}],\"scatterpolargl\":[{\"type\":\"scatterpolargl\",\"marker\":{\"colorbar\":{\"outlinewidth\":0,\"ticks\":\"\"}}}],\"bar\":[{\"error_x\":{\"color\":\"#2a3f5f\"},\"error_y\":{\"color\":\"#2a3f5f\"},\"marker\":{\"line\":{\"color\":\"#E5ECF6\",\"width\":0.5},\"pattern\":{\"fillmode\":\"overlay\",\"size\":10,\"solidity\":0.2}},\"type\":\"bar\"}],\"scattergeo\":[{\"type\":\"scattergeo\",\"marker\":{\"colorbar\":{\"outlinewidth\":0,\"ticks\":\"\"}}}],\"scatterpolar\":[{\"type\":\"scatterpolar\",\"marker\":{\"colorbar\":{\"outlinewidth\":0,\"ticks\":\"\"}}}],\"histogram\":[{\"marker\":{\"pattern\":{\"fillmode\":\"overlay\",\"size\":10,\"solidity\":0.2}},\"type\":\"histogram\"}],\"scattergl\":[{\"type\":\"scattergl\",\"marker\":{\"colorbar\":{\"outlinewidth\":0,\"ticks\":\"\"}}}],\"scatter3d\":[{\"type\":\"scatter3d\",\"line\":{\"colorbar\":{\"outlinewidth\":0,\"ticks\":\"\"}},\"marker\":{\"colorbar\":{\"outlinewidth\":0,\"ticks\":\"\"}}}],\"scattermapbox\":[{\"type\":\"scattermapbox\",\"marker\":{\"colorbar\":{\"outlinewidth\":0,\"ticks\":\"\"}}}],\"scatterternary\":[{\"type\":\"scatterternary\",\"marker\":{\"colorbar\":{\"outlinewidth\":0,\"ticks\":\"\"}}}],\"scattercarpet\":[{\"type\":\"scattercarpet\",\"marker\":{\"colorbar\":{\"outlinewidth\":0,\"ticks\":\"\"}}}],\"carpet\":[{\"aaxis\":{\"endlinecolor\":\"#2a3f5f\",\"gridcolor\":\"white\",\"linecolor\":\"white\",\"minorgridcolor\":\"white\",\"startlinecolor\":\"#2a3f5f\"},\"baxis\":{\"endlinecolor\":\"#2a3f5f\",\"gridcolor\":\"white\",\"linecolor\":\"white\",\"minorgridcolor\":\"white\",\"startlinecolor\":\"#2a3f5f\"},\"type\":\"carpet\"}],\"table\":[{\"cells\":{\"fill\":{\"color\":\"#EBF0F8\"},\"line\":{\"color\":\"white\"}},\"header\":{\"fill\":{\"color\":\"#C8D4E3\"},\"line\":{\"color\":\"white\"}},\"type\":\"table\"}],\"barpolar\":[{\"marker\":{\"line\":{\"color\":\"#E5ECF6\",\"width\":0.5},\"pattern\":{\"fillmode\":\"overlay\",\"size\":10,\"solidity\":0.2}},\"type\":\"barpolar\"}],\"pie\":[{\"automargin\":true,\"type\":\"pie\"}]},\"layout\":{\"autotypenumbers\":\"strict\",\"colorway\":[\"#636efa\",\"#EF553B\",\"#00cc96\",\"#ab63fa\",\"#FFA15A\",\"#19d3f3\",\"#FF6692\",\"#B6E880\",\"#FF97FF\",\"#FECB52\"],\"font\":{\"color\":\"#2a3f5f\"},\"hovermode\":\"closest\",\"hoverlabel\":{\"align\":\"left\"},\"paper_bgcolor\":\"white\",\"plot_bgcolor\":\"#E5ECF6\",\"polar\":{\"bgcolor\":\"#E5ECF6\",\"angularaxis\":{\"gridcolor\":\"white\",\"linecolor\":\"white\",\"ticks\":\"\"},\"radialaxis\":{\"gridcolor\":\"white\",\"linecolor\":\"white\",\"ticks\":\"\"}},\"ternary\":{\"bgcolor\":\"#E5ECF6\",\"aaxis\":{\"gridcolor\":\"white\",\"linecolor\":\"white\",\"ticks\":\"\"},\"baxis\":{\"gridcolor\":\"white\",\"linecolor\":\"white\",\"ticks\":\"\"},\"caxis\":{\"gridcolor\":\"white\",\"linecolor\":\"white\",\"ticks\":\"\"}},\"coloraxis\":{\"colorbar\":{\"outlinewidth\":0,\"ticks\":\"\"}},\"colorscale\":{\"sequential\":[[0.0,\"#0d0887\"],[0.1111111111111111,\"#46039f\"],[0.2222222222222222,\"#7201a8\"],[0.3333333333333333,\"#9c179e\"],[0.4444444444444444,\"#bd3786\"],[0.5555555555555556,\"#d8576b\"],[0.6666666666666666,\"#ed7953\"],[0.7777777777777778,\"#fb9f3a\"],[0.8888888888888888,\"#fdca26\"],[1.0,\"#f0f921\"]],\"sequentialminus\":[[0.0,\"#0d0887\"],[0.1111111111111111,\"#46039f\"],[0.2222222222222222,\"#7201a8\"],[0.3333333333333333,\"#9c179e\"],[0.4444444444444444,\"#bd3786\"],[0.5555555555555556,\"#d8576b\"],[0.6666666666666666,\"#ed7953\"],[0.7777777777777778,\"#fb9f3a\"],[0.8888888888888888,\"#fdca26\"],[1.0,\"#f0f921\"]],\"diverging\":[[0,\"#8e0152\"],[0.1,\"#c51b7d\"],[0.2,\"#de77ae\"],[0.3,\"#f1b6da\"],[0.4,\"#fde0ef\"],[0.5,\"#f7f7f7\"],[0.6,\"#e6f5d0\"],[0.7,\"#b8e186\"],[0.8,\"#7fbc41\"],[0.9,\"#4d9221\"],[1,\"#276419\"]]},\"xaxis\":{\"gridcolor\":\"white\",\"linecolor\":\"white\",\"ticks\":\"\",\"title\":{\"standoff\":15},\"zerolinecolor\":\"white\",\"automargin\":true,\"zerolinewidth\":2},\"yaxis\":{\"gridcolor\":\"white\",\"linecolor\":\"white\",\"ticks\":\"\",\"title\":{\"standoff\":15},\"zerolinecolor\":\"white\",\"automargin\":true,\"zerolinewidth\":2},\"scene\":{\"xaxis\":{\"backgroundcolor\":\"#E5ECF6\",\"gridcolor\":\"white\",\"linecolor\":\"white\",\"showbackground\":true,\"ticks\":\"\",\"zerolinecolor\":\"white\",\"gridwidth\":2},\"yaxis\":{\"backgroundcolor\":\"#E5ECF6\",\"gridcolor\":\"white\",\"linecolor\":\"white\",\"showbackground\":true,\"ticks\":\"\",\"zerolinecolor\":\"white\",\"gridwidth\":2},\"zaxis\":{\"backgroundcolor\":\"#E5ECF6\",\"gridcolor\":\"white\",\"linecolor\":\"white\",\"showbackground\":true,\"ticks\":\"\",\"zerolinecolor\":\"white\",\"gridwidth\":2}},\"shapedefaults\":{\"line\":{\"color\":\"#2a3f5f\"}},\"annotationdefaults\":{\"arrowcolor\":\"#2a3f5f\",\"arrowhead\":0,\"arrowwidth\":1},\"geo\":{\"bgcolor\":\"white\",\"landcolor\":\"#E5ECF6\",\"subunitcolor\":\"white\",\"showland\":true,\"showlakes\":true,\"lakecolor\":\"white\"},\"title\":{\"x\":0.05},\"mapbox\":{\"style\":\"light\"}}},\"xaxis\":{\"anchor\":\"y\",\"domain\":[0.0,1.0],\"title\":{\"text\":\"Y\"},\"range\":[43.4298563620001,44.195839340000006]},\"yaxis\":{\"anchor\":\"x\",\"domain\":[0.0,1.0],\"title\":{\"text\":\"X\"},\"range\":[-112.72281231100001,-111.468612121]},\"coloraxis\":{\"colorbar\":{\"title\":{\"text\":\"DiscoveryAcres\"}},\"colorscale\":[[0.0,\"rgb(255,245,240)\"],[0.125,\"rgb(254,224,210)\"],[0.25,\"rgb(252,187,161)\"],[0.375,\"rgb(252,146,114)\"],[0.5,\"rgb(251,106,74)\"],[0.625,\"rgb(239,59,44)\"],[0.75,\"rgb(203,24,29)\"],[0.875,\"rgb(165,15,21)\"],[1.0,\"rgb(103,0,13)\"]]},\"legend\":{\"tracegroupgap\":0},\"margin\":{\"t\":60},\"updatemenus\":[{\"buttons\":[{\"args\":[null,{\"frame\":{\"duration\":500,\"redraw\":false},\"mode\":\"immediate\",\"fromcurrent\":true,\"transition\":{\"duration\":500,\"easing\":\"linear\"}}],\"label\":\"&#9654;\",\"method\":\"animate\"},{\"args\":[[null],{\"frame\":{\"duration\":0,\"redraw\":false},\"mode\":\"immediate\",\"fromcurrent\":true,\"transition\":{\"duration\":0,\"easing\":\"linear\"}}],\"label\":\"&#9724;\",\"method\":\"animate\"}],\"direction\":\"left\",\"pad\":{\"r\":10,\"t\":70},\"showactive\":false,\"type\":\"buttons\",\"x\":0.1,\"xanchor\":\"right\",\"y\":0,\"yanchor\":\"top\"}],\"sliders\":[{\"active\":0,\"currentvalue\":{\"prefix\":\"StartYear=\"},\"len\":0.9,\"pad\":{\"b\":10,\"t\":60},\"steps\":[{\"args\":[[\"2019\"],{\"frame\":{\"duration\":0,\"redraw\":false},\"mode\":\"immediate\",\"fromcurrent\":true,\"transition\":{\"duration\":0,\"easing\":\"linear\"}}],\"label\":\"2019\",\"method\":\"animate\"},{\"args\":[[\"2020\"],{\"frame\":{\"duration\":0,\"redraw\":false},\"mode\":\"immediate\",\"fromcurrent\":true,\"transition\":{\"duration\":0,\"easing\":\"linear\"}}],\"label\":\"2020\",\"method\":\"animate\"},{\"args\":[[\"2021\"],{\"frame\":{\"duration\":0,\"redraw\":false},\"mode\":\"immediate\",\"fromcurrent\":true,\"transition\":{\"duration\":0,\"easing\":\"linear\"}}],\"label\":\"2021\",\"method\":\"animate\"},{\"args\":[[\"2022\"],{\"frame\":{\"duration\":0,\"redraw\":false},\"mode\":\"immediate\",\"fromcurrent\":true,\"transition\":{\"duration\":0,\"easing\":\"linear\"}}],\"label\":\"2022\",\"method\":\"animate\"}],\"x\":0.1,\"xanchor\":\"left\",\"y\":0,\"yanchor\":\"top\"}]},                        {\"responsive\": true}                    ).then(function(){\n",
       "                            Plotly.addFrames('1ca91f23-7b67-4e9b-a4cc-4b30888d0e83', [{\"data\":[{\"hovertemplate\":\"StartYear=2019<br>Y=%{x}<br>X=%{y}<br>DiscoveryAcres=%{marker.color}<extra></extra>\",\"legendgroup\":\"\",\"marker\":{\"color\":[300.0,1.0,2000.0,0.5,100.0,0.5],\"coloraxis\":\"coloraxis\",\"symbol\":[\"circle\",\"circle\",\"circle\",\"circle\",\"circle\",\"circle\",\"star\"]},\"mode\":\"markers+markers+markers+markers+markers+markers+markers\",\"name\":\"\",\"orientation\":\"v\",\"showlegend\":false,\"x\":[43.825246351000004,43.8222763520001,43.7147862950001,43.8124663510001,43.99583934,43.8130263510001,43.85421248028577],\"xaxis\":\"x\",\"y\":[-112.020212226,-111.99961222200001,-112.52281231100001,-112.005612221,-112.329012319,-112.005412221,-112.19962655399999],\"yaxis\":\"y\",\"type\":\"scatter\"}],\"name\":\"2019\"},{\"data\":[{\"hovertemplate\":\"StartYear=2020<br>Y=%{x}<br>X=%{y}<br>DiscoveryAcres=%{marker.color}<extra></extra>\",\"legendgroup\":\"\",\"marker\":{\"color\":[50.0,0.3,0.5],\"coloraxis\":\"coloraxis\",\"symbol\":[\"circle\",\"circle\",\"circle\",\"star\"]},\"mode\":\"markers+markers+markers+markers\",\"name\":\"\",\"orientation\":\"v\",\"showlegend\":false,\"x\":[43.880106340000104,43.629856362000105,43.796132383999996,43.85421248028577],\"xaxis\":\"x\",\"y\":[-112.196412272,-111.66861212100001,-112.175924659,-112.19962655399999],\"yaxis\":\"y\",\"type\":\"scatter\"}],\"name\":\"2020\"},{\"data\":[{\"hovertemplate\":\"StartYear=2021<br>Y=%{x}<br>X=%{y}<br>DiscoveryAcres=%{marker.color}<extra></extra>\",\"legendgroup\":\"\",\"marker\":{\"color\":[1.0,2.5,0.1,0.1],\"coloraxis\":\"coloraxis\",\"symbol\":[\"circle\",\"circle\",\"circle\",\"circle\",\"star\"]},\"mode\":\"markers+markers+markers+markers+markers\",\"name\":\"\",\"orientation\":\"v\",\"showlegend\":false,\"x\":[43.766674849,43.8283963480001,43.7885663490001,43.812886351,43.85421248028577],\"xaxis\":\"x\",\"y\":[-112.060501727,-112.047612233,-112.001612216,-112.002912221,-112.19962655399999],\"yaxis\":\"y\",\"type\":\"scatter\"}],\"name\":\"2021\"},{\"data\":[{\"hovertemplate\":\"StartYear=2022<br>Y=%{x}<br>X=%{y}<br>DiscoveryAcres=%{marker.color}<extra></extra>\",\"legendgroup\":\"\",\"marker\":{\"color\":[1.0,10.0,3.0,0.1,1.0,1.0],\"coloraxis\":\"coloraxis\",\"symbol\":[\"circle\",\"circle\",\"circle\",\"circle\",\"circle\",\"circle\",\"star\"]},\"mode\":\"markers+markers+markers+markers+markers+markers+markers\",\"name\":\"\",\"orientation\":\"v\",\"showlegend\":false,\"x\":[43.7793063440001,43.826826354,43.9082863340001,43.781116345,43.8244963510001,43.953636341000006,43.85421248028577],\"xaxis\":\"x\",\"y\":[-112.039712223,-111.98271221899999,-112.298612298,-112.03781222299999,-112.016012225,-112.26921229999999,-112.19962655399999],\"yaxis\":\"y\",\"type\":\"scatter\"}],\"name\":\"2022\"}]);\n",
       "                        }).then(function(){\n",
       "                            \n",
       "var gd = document.getElementById('1ca91f23-7b67-4e9b-a4cc-4b30888d0e83');\n",
       "var x = new MutationObserver(function (mutations, observer) {{\n",
       "        var display = window.getComputedStyle(gd).display;\n",
       "        if (!display || display === 'none') {{\n",
       "            console.log([gd, 'removed!']);\n",
       "            Plotly.purge(gd);\n",
       "            observer.disconnect();\n",
       "        }}\n",
       "}});\n",
       "\n",
       "// Listen for the removal of the full notebook cells\n",
       "var notebookContainer = gd.closest('#notebook-container');\n",
       "if (notebookContainer) {{\n",
       "    x.observe(notebookContainer, {childList: true});\n",
       "}}\n",
       "\n",
       "// Listen for the clearing of the current output cell\n",
       "var outputEl = gd.closest('.output');\n",
       "if (outputEl) {{\n",
       "    x.observe(outputEl, {childList: true});\n",
       "}}\n",
       "\n",
       "                        })                };                });            </script>        </div>"
      ]
     },
     "metadata": {},
     "output_type": "display_data"
    },
    {
     "data": {
      "text/plain": [
       "[(43.85421248028577, -112.19962655399999)]"
      ]
     },
     "execution_count": 250,
     "metadata": {},
     "output_type": "execute_result"
    }
   ],
   "source": [
    "graph_county_station_location(big_df,'16051')"
   ]
  },
  {
   "cell_type": "code",
   "execution_count": 220,
   "metadata": {},
   "outputs": [],
   "source": [
    "stn_loc = pd.read_csv('stn_loc_score.csv').drop(columns= ['Loc_comb','Dis_dur'])"
   ]
  },
  {
   "cell_type": "code",
   "execution_count": null,
   "metadata": {},
   "outputs": [],
   "source": []
  },
  {
   "cell_type": "code",
   "execution_count": 221,
   "metadata": {},
   "outputs": [],
   "source": [
    "tx_region = pd.read_csv('txregion.csv').iloc[1:,1:4]\n",
    "tx_region.columns = ['county','FIPS','Region']"
   ]
  },
  {
   "cell_type": "code",
   "execution_count": null,
   "metadata": {},
   "outputs": [],
   "source": []
  },
  {
   "cell_type": "code",
   "execution_count": 222,
   "metadata": {},
   "outputs": [
    {
     "data": {
      "text/html": [
       "<div>\n",
       "<style scoped>\n",
       "    .dataframe tbody tr th:only-of-type {\n",
       "        vertical-align: middle;\n",
       "    }\n",
       "\n",
       "    .dataframe tbody tr th {\n",
       "        vertical-align: top;\n",
       "    }\n",
       "\n",
       "    .dataframe thead th {\n",
       "        text-align: right;\n",
       "    }\n",
       "</style>\n",
       "<table border=\"1\" class=\"dataframe\">\n",
       "  <thead>\n",
       "    <tr style=\"text-align: right;\">\n",
       "      <th></th>\n",
       "      <th>stn_loc</th>\n",
       "      <th>wf_loc</th>\n",
       "      <th>duration</th>\n",
       "      <th>distance</th>\n",
       "      <th>county</th>\n",
       "      <th>score</th>\n",
       "      <th>weighted_sum</th>\n",
       "      <th>Region</th>\n",
       "      <th>weighted_mean</th>\n",
       "    </tr>\n",
       "  </thead>\n",
       "  <tbody>\n",
       "    <tr>\n",
       "      <th>0</th>\n",
       "      <td>Cass</td>\n",
       "      <td>0</td>\n",
       "      <td>4588.7</td>\n",
       "      <td>80729.5</td>\n",
       "      <td>Harrison</td>\n",
       "      <td>1.634602</td>\n",
       "      <td>2.083527</td>\n",
       "      <td>4</td>\n",
       "      <td>1.284762</td>\n",
       "    </tr>\n",
       "    <tr>\n",
       "      <th>1</th>\n",
       "      <td>Cass</td>\n",
       "      <td>1</td>\n",
       "      <td>2418.2</td>\n",
       "      <td>29201.8</td>\n",
       "      <td>Cass</td>\n",
       "      <td>2.763340</td>\n",
       "      <td>1.856197</td>\n",
       "      <td>4</td>\n",
       "      <td>0.669525</td>\n",
       "    </tr>\n",
       "    <tr>\n",
       "      <th>2</th>\n",
       "      <td>Cass</td>\n",
       "      <td>5</td>\n",
       "      <td>3505.2</td>\n",
       "      <td>53802.8</td>\n",
       "      <td>Marion</td>\n",
       "      <td>1.013610</td>\n",
       "      <td>0.986918</td>\n",
       "      <td>4</td>\n",
       "      <td>1.008581</td>\n",
       "    </tr>\n",
       "    <tr>\n",
       "      <th>3</th>\n",
       "      <td>Cass</td>\n",
       "      <td>6</td>\n",
       "      <td>5600.9</td>\n",
       "      <td>107188.9</td>\n",
       "      <td>Panola</td>\n",
       "      <td>0.850108</td>\n",
       "      <td>1.322603</td>\n",
       "      <td>4</td>\n",
       "      <td>1.771841</td>\n",
       "    </tr>\n",
       "    <tr>\n",
       "      <th>4</th>\n",
       "      <td>Cass</td>\n",
       "      <td>7</td>\n",
       "      <td>5987.4</td>\n",
       "      <td>94277.3</td>\n",
       "      <td>Titus</td>\n",
       "      <td>0.254295</td>\n",
       "      <td>0.422934</td>\n",
       "      <td>4</td>\n",
       "      <td>1.437696</td>\n",
       "    </tr>\n",
       "    <tr>\n",
       "      <th>...</th>\n",
       "      <td>...</td>\n",
       "      <td>...</td>\n",
       "      <td>...</td>\n",
       "      <td>...</td>\n",
       "      <td>...</td>\n",
       "      <td>...</td>\n",
       "      <td>...</td>\n",
       "      <td>...</td>\n",
       "      <td>...</td>\n",
       "    </tr>\n",
       "    <tr>\n",
       "      <th>12192</th>\n",
       "      <td>Beeville</td>\n",
       "      <td>7302</td>\n",
       "      <td>2841.5</td>\n",
       "      <td>50052.5</td>\n",
       "      <td>San Patricio</td>\n",
       "      <td>0.174682</td>\n",
       "      <td>0.137877</td>\n",
       "      <td>11</td>\n",
       "      <td>1.895324</td>\n",
       "    </tr>\n",
       "    <tr>\n",
       "      <th>12193</th>\n",
       "      <td>Beeville</td>\n",
       "      <td>7333</td>\n",
       "      <td>13151.8</td>\n",
       "      <td>302298.5</td>\n",
       "      <td>Hidalgo</td>\n",
       "      <td>0.212549</td>\n",
       "      <td>0.776499</td>\n",
       "      <td>11</td>\n",
       "      <td>1.966479</td>\n",
       "    </tr>\n",
       "    <tr>\n",
       "      <th>12194</th>\n",
       "      <td>Beeville</td>\n",
       "      <td>7379</td>\n",
       "      <td>11618.5</td>\n",
       "      <td>257703.7</td>\n",
       "      <td>Willacy</td>\n",
       "      <td>0.000182</td>\n",
       "      <td>0.000588</td>\n",
       "      <td>11</td>\n",
       "      <td>2.017056</td>\n",
       "    </tr>\n",
       "    <tr>\n",
       "      <th>12195</th>\n",
       "      <td>Beeville</td>\n",
       "      <td>7392</td>\n",
       "      <td>13109.8</td>\n",
       "      <td>284961.1</td>\n",
       "      <td>Hidalgo</td>\n",
       "      <td>0.212549</td>\n",
       "      <td>0.774020</td>\n",
       "      <td>11</td>\n",
       "      <td>1.966479</td>\n",
       "    </tr>\n",
       "    <tr>\n",
       "      <th>12196</th>\n",
       "      <td>Beeville</td>\n",
       "      <td>7465</td>\n",
       "      <td>6957.7</td>\n",
       "      <td>129504.1</td>\n",
       "      <td>Jim Wells</td>\n",
       "      <td>0.107854</td>\n",
       "      <td>0.208449</td>\n",
       "      <td>11</td>\n",
       "      <td>1.751711</td>\n",
       "    </tr>\n",
       "  </tbody>\n",
       "</table>\n",
       "<p>12197 rows × 9 columns</p>\n",
       "</div>"
      ],
      "text/plain": [
       "        stn_loc  wf_loc  duration  distance        county     score  \\\n",
       "0          Cass       0    4588.7   80729.5      Harrison  1.634602   \n",
       "1          Cass       1    2418.2   29201.8          Cass  2.763340   \n",
       "2          Cass       5    3505.2   53802.8        Marion  1.013610   \n",
       "3          Cass       6    5600.9  107188.9        Panola  0.850108   \n",
       "4          Cass       7    5987.4   94277.3         Titus  0.254295   \n",
       "...         ...     ...       ...       ...           ...       ...   \n",
       "12192  Beeville    7302    2841.5   50052.5  San Patricio  0.174682   \n",
       "12193  Beeville    7333   13151.8  302298.5       Hidalgo  0.212549   \n",
       "12194  Beeville    7379   11618.5  257703.7       Willacy  0.000182   \n",
       "12195  Beeville    7392   13109.8  284961.1       Hidalgo  0.212549   \n",
       "12196  Beeville    7465    6957.7  129504.1     Jim Wells  0.107854   \n",
       "\n",
       "       weighted_sum Region  weighted_mean  \n",
       "0          2.083527      4       1.284762  \n",
       "1          1.856197      4       0.669525  \n",
       "2          0.986918      4       1.008581  \n",
       "3          1.322603      4       1.771841  \n",
       "4          0.422934      4       1.437696  \n",
       "...             ...    ...            ...  \n",
       "12192      0.137877     11       1.895324  \n",
       "12193      0.776499     11       1.966479  \n",
       "12194      0.000588     11       2.017056  \n",
       "12195      0.774020     11       1.966479  \n",
       "12196      0.208449     11       1.751711  \n",
       "\n",
       "[12197 rows x 9 columns]"
      ]
     },
     "execution_count": 222,
     "metadata": {},
     "output_type": "execute_result"
    }
   ],
   "source": [
    "stn_loc = pd.merge(stn_loc,tx_region[['county','Region']], on = ['county'], how = 'left')\n",
    "stn_loc = pd.merge(stn_loc,county_score_df[['county','weighted_mean']], on = ['county'], how = 'left')\n",
    "stn_loc"
   ]
  },
  {
   "cell_type": "code",
   "execution_count": null,
   "metadata": {},
   "outputs": [],
   "source": []
  },
  {
   "cell_type": "code",
   "execution_count": null,
   "metadata": {},
   "outputs": [],
   "source": [
    "county_score_df = stn_loc.groupby('county').mean().reset_index()\n",
    "weighted_mean = county_score_df['weighted_sum']/county_score_df['score']"
   ]
  },
  {
   "cell_type": "code",
   "execution_count": 224,
   "metadata": {},
   "outputs": [],
   "source": [
    "optimal_county_df = stn_loc.loc[stn_loc.groupby('wf_loc')['duration'].idxmin()]"
   ]
  },
  {
   "cell_type": "code",
   "execution_count": 226,
   "metadata": {},
   "outputs": [
    {
     "data": {
      "text/plain": [
       "<AxesSubplot:xlabel='stn_loc'>"
      ]
     },
     "execution_count": 226,
     "metadata": {},
     "output_type": "execute_result"
    },
    {
     "data": {
      "image/png": "[encoded data removed]",
      "text/plain": [
       "<Figure size 432x288 with 1 Axes>"
      ]
     },
     "metadata": {
      "needs_background": "light"
     },
     "output_type": "display_data"
    }
   ],
   "source": [
    "optimal_county_df.groupby('stn_loc').sum().sort_values(by = 'weighted_sum',ascending = False).reset_index().plot(kind = 'bar',x = 'stn_loc',y = 'weighted_sum')"
   ]
  },
  {
   "cell_type": "code",
   "execution_count": 232,
   "metadata": {},
   "outputs": [
    {
     "data": {
      "text/plain": [
       "460519.6500000001"
      ]
     },
     "execution_count": 232,
     "metadata": {},
     "output_type": "execute_result"
    }
   ],
   "source": [
    "big_df[big_df['StartYear']==2019]['DiscoveryAcres'].sum()"
   ]
  },
  {
   "cell_type": "code",
   "execution_count": 233,
   "metadata": {},
   "outputs": [
    {
     "data": {
      "text/plain": [
       "1029288.631"
      ]
     },
     "execution_count": 233,
     "metadata": {},
     "output_type": "execute_result"
    }
   ],
   "source": [
    "big_df[big_df['StartYear']==2022]['DiscoveryAcres'].sum()"
   ]
  },
  {
   "cell_type": "code",
   "execution_count": null,
   "metadata": {},
   "outputs": [],
   "source": []
  },
  {
   "cell_type": "code",
   "execution_count": null,
   "metadata": {},
   "outputs": [],
   "source": []
  },
  {
   "cell_type": "code",
   "execution_count": 263,
   "metadata": {},
   "outputs": [
    {
     "data": {
      "application/vnd.plotly.v1+json": {
       "config": {
        "plotlyServerURL": "https://plot.ly"
       },
       "data": [
        {
         "alignmentgroup": "True",
         "hovertemplate": "stn_loc=%{x}<br>weighted_sum=%{text}<extra></extra>",
         "legendgroup": "",
         "marker": {
          "color": "#636efa",
          "pattern": {
           "shape": ""
          }
         },
         "name": "",
         "offsetgroup": "",
         "orientation": "v",
         "showlegend": false,
         "text": [
          5354.49,
          2811.08,
          2554.42,
          1731.84,
          1041.72,
          855.8,
          818.57,
          764.91,
          750.7,
          730.6,
          642.46,
          360.19,
          341.48,
          171.04,
          83.72,
          78.61,
          72.3,
          65.79
         ],
         "textposition": "auto",
         "type": "bar",
         "x": [
          "Cass",
          "Polk",
          "Angelina",
          "Lubbock",
          "Brownwood",
          "Childress",
          "Midland",
          "Burkburnett",
          "Merkel",
          "San Angelo",
          "Fort Stockton",
          "Amarillo",
          "Dumas",
          "Mineral Wells",
          "Cotulla",
          "Beeville",
          "Edinburg",
          "Frederickburg"
         ],
         "xaxis": "x",
         "y": [
          5354.49,
          2811.08,
          2554.42,
          1731.84,
          1041.72,
          855.8,
          818.57,
          764.91,
          750.7,
          730.6,
          642.46,
          360.19,
          341.48,
          171.04,
          83.72,
          78.61,
          72.3,
          65.79
         ],
         "yaxis": "y"
        }
       ],
       "layout": {
        "barmode": "relative",
        "legend": {
         "tracegroupgap": 0
        },
        "margin": {
         "t": 60
        },
        "plot_bgcolor": "rgba(0,0,0,0)",
        "template": {
         "data": {
          "bar": [
           {
            "error_x": {
             "color": "#2a3f5f"
            },
            "error_y": {
             "color": "#2a3f5f"
            },
            "marker": {
             "line": {
              "color": "#E5ECF6",
              "width": 0.5
             },
             "pattern": {
              "fillmode": "overlay",
              "size": 10,
              "solidity": 0.2
             }
            },
            "type": "bar"
           }
          ],
          "barpolar": [
           {
            "marker": {
             "line": {
              "color": "#E5ECF6",
              "width": 0.5
             },
             "pattern": {
              "fillmode": "overlay",
              "size": 10,
              "solidity": 0.2
             }
            },
            "type": "barpolar"
           }
          ],
          "carpet": [
           {
            "aaxis": {
             "endlinecolor": "#2a3f5f",
             "gridcolor": "white",
             "linecolor": "white",
             "minorgridcolor": "white",
             "startlinecolor": "#2a3f5f"
            },
            "baxis": {
             "endlinecolor": "#2a3f5f",
             "gridcolor": "white",
             "linecolor": "white",
             "minorgridcolor": "white",
             "startlinecolor": "#2a3f5f"
            },
            "type": "carpet"
           }
          ],
          "choropleth": [
           {
            "colorbar": {
             "outlinewidth": 0,
             "ticks": ""
            },
            "type": "choropleth"
           }
          ],
          "contour": [
           {
            "colorbar": {
             "outlinewidth": 0,
             "ticks": ""
            },
            "colorscale": [
             [
              0,
              "#0d0887"
             ],
             [
              0.1111111111111111,
              "#46039f"
             ],
             [
              0.2222222222222222,
              "#7201a8"
             ],
             [
              0.3333333333333333,
              "#9c179e"
             ],
             [
              0.4444444444444444,
              "#bd3786"
             ],
             [
              0.5555555555555556,
              "#d8576b"
             ],
             [
              0.6666666666666666,
              "#ed7953"
             ],
             [
              0.7777777777777778,
              "#fb9f3a"
             ],
             [
              0.8888888888888888,
              "#fdca26"
             ],
             [
              1,
              "#f0f921"
             ]
            ],
            "type": "contour"
           }
          ],
          "contourcarpet": [
           {
            "colorbar": {
             "outlinewidth": 0,
             "ticks": ""
            },
            "type": "contourcarpet"
           }
          ],
          "heatmap": [
           {
            "colorbar": {
             "outlinewidth": 0,
             "ticks": ""
            },
            "colorscale": [
             [
              0,
              "#0d0887"
             ],
             [
              0.1111111111111111,
              "#46039f"
             ],
             [
              0.2222222222222222,
              "#7201a8"
             ],
             [
              0.3333333333333333,
              "#9c179e"
             ],
             [
              0.4444444444444444,
              "#bd3786"
             ],
             [
              0.5555555555555556,
              "#d8576b"
             ],
             [
              0.6666666666666666,
              "#ed7953"
             ],
             [
              0.7777777777777778,
              "#fb9f3a"
             ],
             [
              0.8888888888888888,
              "#fdca26"
             ],
             [
              1,
              "#f0f921"
             ]
            ],
            "type": "heatmap"
           }
          ],
          "heatmapgl": [
           {
            "colorbar": {
             "outlinewidth": 0,
             "ticks": ""
            },
            "colorscale": [
             [
              0,
              "#0d0887"
             ],
             [
              0.1111111111111111,
              "#46039f"
             ],
             [
              0.2222222222222222,
              "#7201a8"
             ],
             [
              0.3333333333333333,
              "#9c179e"
             ],
             [
              0.4444444444444444,
              "#bd3786"
             ],
             [
              0.5555555555555556,
              "#d8576b"
             ],
             [
              0.6666666666666666,
              "#ed7953"
             ],
             [
              0.7777777777777778,
              "#fb9f3a"
             ],
             [
              0.8888888888888888,
              "#fdca26"
             ],
             [
              1,
              "#f0f921"
             ]
            ],
            "type": "heatmapgl"
           }
          ],
          "histogram": [
           {
            "marker": {
             "pattern": {
              "fillmode": "overlay",
              "size": 10,
              "solidity": 0.2
             }
            },
            "type": "histogram"
           }
          ],
          "histogram2d": [
           {
            "colorbar": {
             "outlinewidth": 0,
             "ticks": ""
            },
            "colorscale": [
             [
              0,
              "#0d0887"
             ],
             [
              0.1111111111111111,
              "#46039f"
             ],
             [
              0.2222222222222222,
              "#7201a8"
             ],
             [
              0.3333333333333333,
              "#9c179e"
             ],
             [
              0.4444444444444444,
              "#bd3786"
             ],
             [
              0.5555555555555556,
              "#d8576b"
             ],
             [
              0.6666666666666666,
              "#ed7953"
             ],
             [
              0.7777777777777778,
              "#fb9f3a"
             ],
             [
              0.8888888888888888,
              "#fdca26"
             ],
             [
              1,
              "#f0f921"
             ]
            ],
            "type": "histogram2d"
           }
          ],
          "histogram2dcontour": [
           {
            "colorbar": {
             "outlinewidth": 0,
             "ticks": ""
            },
            "colorscale": [
             [
              0,
              "#0d0887"
             ],
             [
              0.1111111111111111,
              "#46039f"
             ],
             [
              0.2222222222222222,
              "#7201a8"
             ],
             [
              0.3333333333333333,
              "#9c179e"
             ],
             [
              0.4444444444444444,
              "#bd3786"
             ],
             [
              0.5555555555555556,
              "#d8576b"
             ],
             [
              0.6666666666666666,
              "#ed7953"
             ],
             [
              0.7777777777777778,
              "#fb9f3a"
             ],
             [
              0.8888888888888888,
              "#fdca26"
             ],
             [
              1,
              "#f0f921"
             ]
            ],
            "type": "histogram2dcontour"
           }
          ],
          "mesh3d": [
           {
            "colorbar": {
             "outlinewidth": 0,
             "ticks": ""
            },
            "type": "mesh3d"
           }
          ],
          "parcoords": [
           {
            "line": {
             "colorbar": {
              "outlinewidth": 0,
              "ticks": ""
             }
            },
            "type": "parcoords"
           }
          ],
          "pie": [
           {
            "automargin": true,
            "type": "pie"
           }
          ],
          "scatter": [
           {
            "fillpattern": {
             "fillmode": "overlay",
             "size": 10,
             "solidity": 0.2
            },
            "type": "scatter"
           }
          ],
          "scatter3d": [
           {
            "line": {
             "colorbar": {
              "outlinewidth": 0,
              "ticks": ""
             }
            },
            "marker": {
             "colorbar": {
              "outlinewidth": 0,
              "ticks": ""
             }
            },
            "type": "scatter3d"
           }
          ],
          "scattercarpet": [
           {
            "marker": {
             "colorbar": {
              "outlinewidth": 0,
              "ticks": ""
             }
            },
            "type": "scattercarpet"
           }
          ],
          "scattergeo": [
           {
            "marker": {
             "colorbar": {
              "outlinewidth": 0,
              "ticks": ""
             }
            },
            "type": "scattergeo"
           }
          ],
          "scattergl": [
           {
            "marker": {
             "colorbar": {
              "outlinewidth": 0,
              "ticks": ""
             }
            },
            "type": "scattergl"
           }
          ],
          "scattermapbox": [
           {
            "marker": {
             "colorbar": {
              "outlinewidth": 0,
              "ticks": ""
             }
            },
            "type": "scattermapbox"
           }
          ],
          "scatterpolar": [
           {
            "marker": {
             "colorbar": {
              "outlinewidth": 0,
              "ticks": ""
             }
            },
            "type": "scatterpolar"
           }
          ],
          "scatterpolargl": [
           {
            "marker": {
             "colorbar": {
              "outlinewidth": 0,
              "ticks": ""
             }
            },
            "type": "scatterpolargl"
           }
          ],
          "scatterternary": [
           {
            "marker": {
             "colorbar": {
              "outlinewidth": 0,
              "ticks": ""
             }
            },
            "type": "scatterternary"
           }
          ],
          "surface": [
           {
            "colorbar": {
             "outlinewidth": 0,
             "ticks": ""
            },
            "colorscale": [
             [
              0,
              "#0d0887"
             ],
             [
              0.1111111111111111,
              "#46039f"
             ],
             [
              0.2222222222222222,
              "#7201a8"
             ],
             [
              0.3333333333333333,
              "#9c179e"
             ],
             [
              0.4444444444444444,
              "#bd3786"
             ],
             [
              0.5555555555555556,
              "#d8576b"
             ],
             [
              0.6666666666666666,
              "#ed7953"
             ],
             [
              0.7777777777777778,
              "#fb9f3a"
             ],
             [
              0.8888888888888888,
              "#fdca26"
             ],
             [
              1,
              "#f0f921"
             ]
            ],
            "type": "surface"
           }
          ],
          "table": [
           {
            "cells": {
             "fill": {
              "color": "#EBF0F8"
             },
             "line": {
              "color": "white"
             }
            },
            "header": {
             "fill": {
              "color": "#C8D4E3"
             },
             "line": {
              "color": "white"
             }
            },
            "type": "table"
           }
          ]
         },
         "layout": {
          "annotationdefaults": {
           "arrowcolor": "#2a3f5f",
           "arrowhead": 0,
           "arrowwidth": 1
          },
          "autotypenumbers": "strict",
          "coloraxis": {
           "colorbar": {
            "outlinewidth": 0,
            "ticks": ""
           }
          },
          "colorscale": {
           "diverging": [
            [
             0,
             "#8e0152"
            ],
            [
             0.1,
             "#c51b7d"
            ],
            [
             0.2,
             "#de77ae"
            ],
            [
             0.3,
             "#f1b6da"
            ],
            [
             0.4,
             "#fde0ef"
            ],
            [
             0.5,
             "#f7f7f7"
            ],
            [
             0.6,
             "#e6f5d0"
            ],
            [
             0.7,
             "#b8e186"
            ],
            [
             0.8,
             "#7fbc41"
            ],
            [
             0.9,
             "#4d9221"
            ],
            [
             1,
             "#276419"
            ]
           ],
           "sequential": [
            [
             0,
             "#0d0887"
            ],
            [
             0.1111111111111111,
             "#46039f"
            ],
            [
             0.2222222222222222,
             "#7201a8"
            ],
            [
             0.3333333333333333,
             "#9c179e"
            ],
            [
             0.4444444444444444,
             "#bd3786"
            ],
            [
             0.5555555555555556,
             "#d8576b"
            ],
            [
             0.6666666666666666,
             "#ed7953"
            ],
            [
             0.7777777777777778,
             "#fb9f3a"
            ],
            [
             0.8888888888888888,
             "#fdca26"
            ],
            [
             1,
             "#f0f921"
            ]
           ],
           "sequentialminus": [
            [
             0,
             "#0d0887"
            ],
            [
             0.1111111111111111,
             "#46039f"
            ],
            [
             0.2222222222222222,
             "#7201a8"
            ],
            [
             0.3333333333333333,
             "#9c179e"
            ],
            [
             0.4444444444444444,
             "#bd3786"
            ],
            [
             0.5555555555555556,
             "#d8576b"
            ],
            [
             0.6666666666666666,
             "#ed7953"
            ],
            [
             0.7777777777777778,
             "#fb9f3a"
            ],
            [
             0.8888888888888888,
             "#fdca26"
            ],
            [
             1,
             "#f0f921"
            ]
           ]
          },
          "colorway": [
           "#636efa",
           "#EF553B",
           "#00cc96",
           "#ab63fa",
           "#FFA15A",
           "#19d3f3",
           "#FF6692",
           "#B6E880",
           "#FF97FF",
           "#FECB52"
          ],
          "font": {
           "color": "#2a3f5f"
          },
          "geo": {
           "bgcolor": "white",
           "lakecolor": "white",
           "landcolor": "#E5ECF6",
           "showlakes": true,
           "showland": true,
           "subunitcolor": "white"
          },
          "hoverlabel": {
           "align": "left"
          },
          "hovermode": "closest",
          "mapbox": {
           "style": "light"
          },
          "paper_bgcolor": "white",
          "plot_bgcolor": "#E5ECF6",
          "polar": {
           "angularaxis": {
            "gridcolor": "white",
            "linecolor": "white",
            "ticks": ""
           },
           "bgcolor": "#E5ECF6",
           "radialaxis": {
            "gridcolor": "white",
            "linecolor": "white",
            "ticks": ""
           }
          },
          "scene": {
           "xaxis": {
            "backgroundcolor": "#E5ECF6",
            "gridcolor": "white",
            "gridwidth": 2,
            "linecolor": "white",
            "showbackground": true,
            "ticks": "",
            "zerolinecolor": "white"
           },
           "yaxis": {
            "backgroundcolor": "#E5ECF6",
            "gridcolor": "white",
            "gridwidth": 2,
            "linecolor": "white",
            "showbackground": true,
            "ticks": "",
            "zerolinecolor": "white"
           },
           "zaxis": {
            "backgroundcolor": "#E5ECF6",
            "gridcolor": "white",
            "gridwidth": 2,
            "linecolor": "white",
            "showbackground": true,
            "ticks": "",
            "zerolinecolor": "white"
           }
          },
          "shapedefaults": {
           "line": {
            "color": "#2a3f5f"
           }
          },
          "ternary": {
           "aaxis": {
            "gridcolor": "white",
            "linecolor": "white",
            "ticks": ""
           },
           "baxis": {
            "gridcolor": "white",
            "linecolor": "white",
            "ticks": ""
           },
           "bgcolor": "#E5ECF6",
           "caxis": {
            "gridcolor": "white",
            "linecolor": "white",
            "ticks": ""
           }
          },
          "title": {
           "x": 0.05
          },
          "xaxis": {
           "automargin": true,
           "gridcolor": "white",
           "linecolor": "white",
           "ticks": "",
           "title": {
            "standoff": 15
           },
           "zerolinecolor": "white",
           "zerolinewidth": 2
          },
          "yaxis": {
           "automargin": true,
           "gridcolor": "white",
           "linecolor": "white",
           "ticks": "",
           "title": {
            "standoff": 15
           },
           "zerolinecolor": "white",
           "zerolinewidth": 2
          }
         }
        },
        "title": {
         "text": "WWF (Weighted Wildfire Frequency)",
         "x": 0.5,
         "xanchor": "center",
         "y": 0.9,
         "yanchor": "top"
        },
        "xaxis": {
         "anchor": "y",
         "domain": [
          0,
          1
         ],
         "title": {
          "text": "Station Location"
         }
        },
        "yaxis": {
         "anchor": "x",
         "domain": [
          0,
          1
         ],
         "title": {
          "text": "weighted_sum"
         },
         "visible": false
        }
       }
      },
      "text/html": [
       "<div>                            <div id=\"5b66fd96-6335-445d-8307-e9511376f7df\" class=\"plotly-graph-div\" style=\"height:525px; width:100%;\"></div>            <script type=\"text/javascript\">                require([\"plotly\"], function(Plotly) {                    window.PLOTLYENV=window.PLOTLYENV || {};                                    if (document.getElementById(\"5b66fd96-6335-445d-8307-e9511376f7df\")) {                    Plotly.newPlot(                        \"5b66fd96-6335-445d-8307-e9511376f7df\",                        [{\"alignmentgroup\":\"True\",\"hovertemplate\":\"stn_loc=%{x}<br>weighted_sum=%{text}<extra></extra>\",\"legendgroup\":\"\",\"marker\":{\"color\":\"#636efa\",\"pattern\":{\"shape\":\"\"}},\"name\":\"\",\"offsetgroup\":\"\",\"orientation\":\"v\",\"showlegend\":false,\"text\":[5354.49,2811.08,2554.42,1731.84,1041.72,855.8,818.57,764.91,750.7,730.6,642.46,360.19,341.48,171.04,83.72,78.61,72.3,65.79],\"textposition\":\"auto\",\"x\":[\"Cass\",\"Polk\",\"Angelina\",\"Lubbock\",\"Brownwood\",\"Childress\",\"Midland\",\"Burkburnett\",\"Merkel\",\"San Angelo\",\"Fort Stockton\",\"Amarillo\",\"Dumas\",\"Mineral Wells\",\"Cotulla\",\"Beeville\",\"Edinburg\",\"Frederickburg\"],\"xaxis\":\"x\",\"y\":[5354.49,2811.08,2554.42,1731.84,1041.72,855.8,818.57,764.91,750.7,730.6,642.46,360.19,341.48,171.04,83.72,78.61,72.3,65.79],\"yaxis\":\"y\",\"type\":\"bar\"}],                        {\"template\":{\"data\":{\"histogram2dcontour\":[{\"type\":\"histogram2dcontour\",\"colorbar\":{\"outlinewidth\":0,\"ticks\":\"\"},\"colorscale\":[[0.0,\"#0d0887\"],[0.1111111111111111,\"#46039f\"],[0.2222222222222222,\"#7201a8\"],[0.3333333333333333,\"#9c179e\"],[0.4444444444444444,\"#bd3786\"],[0.5555555555555556,\"#d8576b\"],[0.6666666666666666,\"#ed7953\"],[0.7777777777777778,\"#fb9f3a\"],[0.8888888888888888,\"#fdca26\"],[1.0,\"#f0f921\"]]}],\"choropleth\":[{\"type\":\"choropleth\",\"colorbar\":{\"outlinewidth\":0,\"ticks\":\"\"}}],\"histogram2d\":[{\"type\":\"histogram2d\",\"colorbar\":{\"outlinewidth\":0,\"ticks\":\"\"},\"colorscale\":[[0.0,\"#0d0887\"],[0.1111111111111111,\"#46039f\"],[0.2222222222222222,\"#7201a8\"],[0.3333333333333333,\"#9c179e\"],[0.4444444444444444,\"#bd3786\"],[0.5555555555555556,\"#d8576b\"],[0.6666666666666666,\"#ed7953\"],[0.7777777777777778,\"#fb9f3a\"],[0.8888888888888888,\"#fdca26\"],[1.0,\"#f0f921\"]]}],\"heatmap\":[{\"type\":\"heatmap\",\"colorbar\":{\"outlinewidth\":0,\"ticks\":\"\"},\"colorscale\":[[0.0,\"#0d0887\"],[0.1111111111111111,\"#46039f\"],[0.2222222222222222,\"#7201a8\"],[0.3333333333333333,\"#9c179e\"],[0.4444444444444444,\"#bd3786\"],[0.5555555555555556,\"#d8576b\"],[0.6666666666666666,\"#ed7953\"],[0.7777777777777778,\"#fb9f3a\"],[0.8888888888888888,\"#fdca26\"],[1.0,\"#f0f921\"]]}],\"heatmapgl\":[{\"type\":\"heatmapgl\",\"colorbar\":{\"outlinewidth\":0,\"ticks\":\"\"},\"colorscale\":[[0.0,\"#0d0887\"],[0.1111111111111111,\"#46039f\"],[0.2222222222222222,\"#7201a8\"],[0.3333333333333333,\"#9c179e\"],[0.4444444444444444,\"#bd3786\"],[0.5555555555555556,\"#d8576b\"],[0.6666666666666666,\"#ed7953\"],[0.7777777777777778,\"#fb9f3a\"],[0.8888888888888888,\"#fdca26\"],[1.0,\"#f0f921\"]]}],\"contourcarpet\":[{\"type\":\"contourcarpet\",\"colorbar\":{\"outlinewidth\":0,\"ticks\":\"\"}}],\"contour\":[{\"type\":\"contour\",\"colorbar\":{\"outlinewidth\":0,\"ticks\":\"\"},\"colorscale\":[[0.0,\"#0d0887\"],[0.1111111111111111,\"#46039f\"],[0.2222222222222222,\"#7201a8\"],[0.3333333333333333,\"#9c179e\"],[0.4444444444444444,\"#bd3786\"],[0.5555555555555556,\"#d8576b\"],[0.6666666666666666,\"#ed7953\"],[0.7777777777777778,\"#fb9f3a\"],[0.8888888888888888,\"#fdca26\"],[1.0,\"#f0f921\"]]}],\"surface\":[{\"type\":\"surface\",\"colorbar\":{\"outlinewidth\":0,\"ticks\":\"\"},\"colorscale\":[[0.0,\"#0d0887\"],[0.1111111111111111,\"#46039f\"],[0.2222222222222222,\"#7201a8\"],[0.3333333333333333,\"#9c179e\"],[0.4444444444444444,\"#bd3786\"],[0.5555555555555556,\"#d8576b\"],[0.6666666666666666,\"#ed7953\"],[0.7777777777777778,\"#fb9f3a\"],[0.8888888888888888,\"#fdca26\"],[1.0,\"#f0f921\"]]}],\"mesh3d\":[{\"type\":\"mesh3d\",\"colorbar\":{\"outlinewidth\":0,\"ticks\":\"\"}}],\"scatter\":[{\"fillpattern\":{\"fillmode\":\"overlay\",\"size\":10,\"solidity\":0.2},\"type\":\"scatter\"}],\"parcoords\":[{\"type\":\"parcoords\",\"line\":{\"colorbar\":{\"outlinewidth\":0,\"ticks\":\"\"}}}],\"scatterpolargl\":[{\"type\":\"scatterpolargl\",\"marker\":{\"colorbar\":{\"outlinewidth\":0,\"ticks\":\"\"}}}],\"bar\":[{\"error_x\":{\"color\":\"#2a3f5f\"},\"error_y\":{\"color\":\"#2a3f5f\"},\"marker\":{\"line\":{\"color\":\"#E5ECF6\",\"width\":0.5},\"pattern\":{\"fillmode\":\"overlay\",\"size\":10,\"solidity\":0.2}},\"type\":\"bar\"}],\"scattergeo\":[{\"type\":\"scattergeo\",\"marker\":{\"colorbar\":{\"outlinewidth\":0,\"ticks\":\"\"}}}],\"scatterpolar\":[{\"type\":\"scatterpolar\",\"marker\":{\"colorbar\":{\"outlinewidth\":0,\"ticks\":\"\"}}}],\"histogram\":[{\"marker\":{\"pattern\":{\"fillmode\":\"overlay\",\"size\":10,\"solidity\":0.2}},\"type\":\"histogram\"}],\"scattergl\":[{\"type\":\"scattergl\",\"marker\":{\"colorbar\":{\"outlinewidth\":0,\"ticks\":\"\"}}}],\"scatter3d\":[{\"type\":\"scatter3d\",\"line\":{\"colorbar\":{\"outlinewidth\":0,\"ticks\":\"\"}},\"marker\":{\"colorbar\":{\"outlinewidth\":0,\"ticks\":\"\"}}}],\"scattermapbox\":[{\"type\":\"scattermapbox\",\"marker\":{\"colorbar\":{\"outlinewidth\":0,\"ticks\":\"\"}}}],\"scatterternary\":[{\"type\":\"scatterternary\",\"marker\":{\"colorbar\":{\"outlinewidth\":0,\"ticks\":\"\"}}}],\"scattercarpet\":[{\"type\":\"scattercarpet\",\"marker\":{\"colorbar\":{\"outlinewidth\":0,\"ticks\":\"\"}}}],\"carpet\":[{\"aaxis\":{\"endlinecolor\":\"#2a3f5f\",\"gridcolor\":\"white\",\"linecolor\":\"white\",\"minorgridcolor\":\"white\",\"startlinecolor\":\"#2a3f5f\"},\"baxis\":{\"endlinecolor\":\"#2a3f5f\",\"gridcolor\":\"white\",\"linecolor\":\"white\",\"minorgridcolor\":\"white\",\"startlinecolor\":\"#2a3f5f\"},\"type\":\"carpet\"}],\"table\":[{\"cells\":{\"fill\":{\"color\":\"#EBF0F8\"},\"line\":{\"color\":\"white\"}},\"header\":{\"fill\":{\"color\":\"#C8D4E3\"},\"line\":{\"color\":\"white\"}},\"type\":\"table\"}],\"barpolar\":[{\"marker\":{\"line\":{\"color\":\"#E5ECF6\",\"width\":0.5},\"pattern\":{\"fillmode\":\"overlay\",\"size\":10,\"solidity\":0.2}},\"type\":\"barpolar\"}],\"pie\":[{\"automargin\":true,\"type\":\"pie\"}]},\"layout\":{\"autotypenumbers\":\"strict\",\"colorway\":[\"#636efa\",\"#EF553B\",\"#00cc96\",\"#ab63fa\",\"#FFA15A\",\"#19d3f3\",\"#FF6692\",\"#B6E880\",\"#FF97FF\",\"#FECB52\"],\"font\":{\"color\":\"#2a3f5f\"},\"hovermode\":\"closest\",\"hoverlabel\":{\"align\":\"left\"},\"paper_bgcolor\":\"white\",\"plot_bgcolor\":\"#E5ECF6\",\"polar\":{\"bgcolor\":\"#E5ECF6\",\"angularaxis\":{\"gridcolor\":\"white\",\"linecolor\":\"white\",\"ticks\":\"\"},\"radialaxis\":{\"gridcolor\":\"white\",\"linecolor\":\"white\",\"ticks\":\"\"}},\"ternary\":{\"bgcolor\":\"#E5ECF6\",\"aaxis\":{\"gridcolor\":\"white\",\"linecolor\":\"white\",\"ticks\":\"\"},\"baxis\":{\"gridcolor\":\"white\",\"linecolor\":\"white\",\"ticks\":\"\"},\"caxis\":{\"gridcolor\":\"white\",\"linecolor\":\"white\",\"ticks\":\"\"}},\"coloraxis\":{\"colorbar\":{\"outlinewidth\":0,\"ticks\":\"\"}},\"colorscale\":{\"sequential\":[[0.0,\"#0d0887\"],[0.1111111111111111,\"#46039f\"],[0.2222222222222222,\"#7201a8\"],[0.3333333333333333,\"#9c179e\"],[0.4444444444444444,\"#bd3786\"],[0.5555555555555556,\"#d8576b\"],[0.6666666666666666,\"#ed7953\"],[0.7777777777777778,\"#fb9f3a\"],[0.8888888888888888,\"#fdca26\"],[1.0,\"#f0f921\"]],\"sequentialminus\":[[0.0,\"#0d0887\"],[0.1111111111111111,\"#46039f\"],[0.2222222222222222,\"#7201a8\"],[0.3333333333333333,\"#9c179e\"],[0.4444444444444444,\"#bd3786\"],[0.5555555555555556,\"#d8576b\"],[0.6666666666666666,\"#ed7953\"],[0.7777777777777778,\"#fb9f3a\"],[0.8888888888888888,\"#fdca26\"],[1.0,\"#f0f921\"]],\"diverging\":[[0,\"#8e0152\"],[0.1,\"#c51b7d\"],[0.2,\"#de77ae\"],[0.3,\"#f1b6da\"],[0.4,\"#fde0ef\"],[0.5,\"#f7f7f7\"],[0.6,\"#e6f5d0\"],[0.7,\"#b8e186\"],[0.8,\"#7fbc41\"],[0.9,\"#4d9221\"],[1,\"#276419\"]]},\"xaxis\":{\"gridcolor\":\"white\",\"linecolor\":\"white\",\"ticks\":\"\",\"title\":{\"standoff\":15},\"zerolinecolor\":\"white\",\"automargin\":true,\"zerolinewidth\":2},\"yaxis\":{\"gridcolor\":\"white\",\"linecolor\":\"white\",\"ticks\":\"\",\"title\":{\"standoff\":15},\"zerolinecolor\":\"white\",\"automargin\":true,\"zerolinewidth\":2},\"scene\":{\"xaxis\":{\"backgroundcolor\":\"#E5ECF6\",\"gridcolor\":\"white\",\"linecolor\":\"white\",\"showbackground\":true,\"ticks\":\"\",\"zerolinecolor\":\"white\",\"gridwidth\":2},\"yaxis\":{\"backgroundcolor\":\"#E5ECF6\",\"gridcolor\":\"white\",\"linecolor\":\"white\",\"showbackground\":true,\"ticks\":\"\",\"zerolinecolor\":\"white\",\"gridwidth\":2},\"zaxis\":{\"backgroundcolor\":\"#E5ECF6\",\"gridcolor\":\"white\",\"linecolor\":\"white\",\"showbackground\":true,\"ticks\":\"\",\"zerolinecolor\":\"white\",\"gridwidth\":2}},\"shapedefaults\":{\"line\":{\"color\":\"#2a3f5f\"}},\"annotationdefaults\":{\"arrowcolor\":\"#2a3f5f\",\"arrowhead\":0,\"arrowwidth\":1},\"geo\":{\"bgcolor\":\"white\",\"landcolor\":\"#E5ECF6\",\"subunitcolor\":\"white\",\"showland\":true,\"showlakes\":true,\"lakecolor\":\"white\"},\"title\":{\"x\":0.05},\"mapbox\":{\"style\":\"light\"}}},\"xaxis\":{\"anchor\":\"y\",\"domain\":[0.0,1.0],\"title\":{\"text\":\"Station Location\"}},\"yaxis\":{\"anchor\":\"x\",\"domain\":[0.0,1.0],\"title\":{\"text\":\"weighted_sum\"},\"visible\":false},\"legend\":{\"tracegroupgap\":0},\"margin\":{\"t\":60},\"barmode\":\"relative\",\"title\":{\"text\":\"WWF (Weighted Wildfire Frequency)\",\"x\":0.5,\"y\":0.9,\"xanchor\":\"center\",\"yanchor\":\"top\"},\"plot_bgcolor\":\"rgba(0,0,0,0)\"},                        {\"responsive\": true}                    ).then(function(){\n",
       "                            \n",
       "var gd = document.getElementById('5b66fd96-6335-445d-8307-e9511376f7df');\n",
       "var x = new MutationObserver(function (mutations, observer) {{\n",
       "        var display = window.getComputedStyle(gd).display;\n",
       "        if (!display || display === 'none') {{\n",
       "            console.log([gd, 'removed!']);\n",
       "            Plotly.purge(gd);\n",
       "            observer.disconnect();\n",
       "        }}\n",
       "}});\n",
       "\n",
       "// Listen for the removal of the full notebook cells\n",
       "var notebookContainer = gd.closest('#notebook-container');\n",
       "if (notebookContainer) {{\n",
       "    x.observe(notebookContainer, {childList: true});\n",
       "}}\n",
       "\n",
       "// Listen for the clearing of the current output cell\n",
       "var outputEl = gd.closest('.output');\n",
       "if (outputEl) {{\n",
       "    x.observe(outputEl, {childList: true});\n",
       "}}\n",
       "\n",
       "                        })                };                });            </script>        </div>"
      ]
     },
     "metadata": {},
     "output_type": "display_data"
    }
   ],
   "source": [
    "abcd = stn_loc.groupby('stn_loc').sum().sort_values(by = 'weighted_sum',ascending = False).reset_index()\n",
    "abcd['weighted_sum'] = abcd['weighted_sum'].round(2)\n",
    "fig = px.bar(abcd, x='stn_loc', y='weighted_sum',\n",
    "        text='weighted_sum')\n",
    "fig.update_xaxes(title_text = 'Station Location')\n",
    "fig.update_layout(title={\n",
    "        'text': 'WWF (Weighted Wildfire Frequency)',\n",
    "        'x': 0.5,\n",
    "        'y': 0.9,\n",
    "        'xanchor': 'center',\n",
    "        'yanchor': 'top'},\n",
    "         plot_bgcolor='rgba(0,0,0,0)')\n",
    "fig.update_layout(yaxis_visible=False)\n",
    "fig.show()"
   ]
  },
  {
   "cell_type": "code",
   "execution_count": 254,
   "metadata": {},
   "outputs": [
    {
     "data": {
      "text/html": [
       "<div>\n",
       "<style scoped>\n",
       "    .dataframe tbody tr th:only-of-type {\n",
       "        vertical-align: middle;\n",
       "    }\n",
       "\n",
       "    .dataframe tbody tr th {\n",
       "        vertical-align: top;\n",
       "    }\n",
       "\n",
       "    .dataframe thead th {\n",
       "        text-align: right;\n",
       "    }\n",
       "</style>\n",
       "<table border=\"1\" class=\"dataframe\">\n",
       "  <thead>\n",
       "    <tr style=\"text-align: right;\">\n",
       "      <th></th>\n",
       "      <th>stn_loc</th>\n",
       "      <th>wf_loc</th>\n",
       "      <th>duration</th>\n",
       "      <th>distance</th>\n",
       "      <th>score</th>\n",
       "      <th>weighted_sum</th>\n",
       "      <th>weighted_mean</th>\n",
       "    </tr>\n",
       "  </thead>\n",
       "  <tbody>\n",
       "    <tr>\n",
       "      <th>0</th>\n",
       "      <td>Cass</td>\n",
       "      <td>8859652</td>\n",
       "      <td>14810063.0</td>\n",
       "      <td>266997288.5</td>\n",
       "      <td>3383.920173</td>\n",
       "      <td>5354.486937</td>\n",
       "      <td>4113.906389</td>\n",
       "    </tr>\n",
       "    <tr>\n",
       "      <th>1</th>\n",
       "      <td>Polk</td>\n",
       "      <td>6670461</td>\n",
       "      <td>9330413.7</td>\n",
       "      <td>187903097.2</td>\n",
       "      <td>2052.206259</td>\n",
       "      <td>2811.078877</td>\n",
       "      <td>2464.888139</td>\n",
       "    </tr>\n",
       "    <tr>\n",
       "      <th>2</th>\n",
       "      <td>Angelina</td>\n",
       "      <td>6670461</td>\n",
       "      <td>8416780.9</td>\n",
       "      <td>158367560.6</td>\n",
       "      <td>2052.206259</td>\n",
       "      <td>2554.424394</td>\n",
       "      <td>2464.888139</td>\n",
       "    </tr>\n",
       "    <tr>\n",
       "      <th>3</th>\n",
       "      <td>Lubbock</td>\n",
       "      <td>1823183</td>\n",
       "      <td>8520076.3</td>\n",
       "      <td>198390937.0</td>\n",
       "      <td>319.209448</td>\n",
       "      <td>1731.840881</td>\n",
       "      <td>1261.307208</td>\n",
       "    </tr>\n",
       "    <tr>\n",
       "      <th>4</th>\n",
       "      <td>Brownwood</td>\n",
       "      <td>2408119</td>\n",
       "      <td>6162969.0</td>\n",
       "      <td>127749239.5</td>\n",
       "      <td>361.938050</td>\n",
       "      <td>1041.721519</td>\n",
       "      <td>1555.847583</td>\n",
       "    </tr>\n",
       "    <tr>\n",
       "      <th>5</th>\n",
       "      <td>Childress</td>\n",
       "      <td>1823183</td>\n",
       "      <td>4324328.1</td>\n",
       "      <td>92945189.4</td>\n",
       "      <td>319.209448</td>\n",
       "      <td>855.803264</td>\n",
       "      <td>1261.307208</td>\n",
       "    </tr>\n",
       "    <tr>\n",
       "      <th>6</th>\n",
       "      <td>Midland</td>\n",
       "      <td>1451371</td>\n",
       "      <td>5057139.1</td>\n",
       "      <td>101900525.7</td>\n",
       "      <td>232.860634</td>\n",
       "      <td>818.574602</td>\n",
       "      <td>1294.677685</td>\n",
       "    </tr>\n",
       "    <tr>\n",
       "      <th>7</th>\n",
       "      <td>Burkburnett</td>\n",
       "      <td>2408119</td>\n",
       "      <td>5972578.3</td>\n",
       "      <td>126386422.0</td>\n",
       "      <td>361.938050</td>\n",
       "      <td>764.906374</td>\n",
       "      <td>1555.847583</td>\n",
       "    </tr>\n",
       "    <tr>\n",
       "      <th>8</th>\n",
       "      <td>Merkel</td>\n",
       "      <td>2408119</td>\n",
       "      <td>4732869.8</td>\n",
       "      <td>101124271.8</td>\n",
       "      <td>361.938050</td>\n",
       "      <td>750.701081</td>\n",
       "      <td>1555.847583</td>\n",
       "    </tr>\n",
       "    <tr>\n",
       "      <th>9</th>\n",
       "      <td>San Angelo</td>\n",
       "      <td>1451371</td>\n",
       "      <td>4653549.0</td>\n",
       "      <td>92249244.2</td>\n",
       "      <td>232.860634</td>\n",
       "      <td>730.602292</td>\n",
       "      <td>1294.677685</td>\n",
       "    </tr>\n",
       "    <tr>\n",
       "      <th>10</th>\n",
       "      <td>Fort Stockton</td>\n",
       "      <td>1451371</td>\n",
       "      <td>4308268.5</td>\n",
       "      <td>90688582.9</td>\n",
       "      <td>232.860634</td>\n",
       "      <td>642.459045</td>\n",
       "      <td>1294.677685</td>\n",
       "    </tr>\n",
       "    <tr>\n",
       "      <th>11</th>\n",
       "      <td>Amarillo</td>\n",
       "      <td>1823183</td>\n",
       "      <td>2523249.0</td>\n",
       "      <td>53969220.8</td>\n",
       "      <td>319.209448</td>\n",
       "      <td>360.189130</td>\n",
       "      <td>1261.307208</td>\n",
       "    </tr>\n",
       "    <tr>\n",
       "      <th>12</th>\n",
       "      <td>Dumas</td>\n",
       "      <td>1823183</td>\n",
       "      <td>3028900.0</td>\n",
       "      <td>67698817.7</td>\n",
       "      <td>319.209448</td>\n",
       "      <td>341.479115</td>\n",
       "      <td>1261.307208</td>\n",
       "    </tr>\n",
       "    <tr>\n",
       "      <th>13</th>\n",
       "      <td>Mineral Wells</td>\n",
       "      <td>1390959</td>\n",
       "      <td>2378187.4</td>\n",
       "      <td>50261167.9</td>\n",
       "      <td>123.001228</td>\n",
       "      <td>171.035725</td>\n",
       "      <td>659.473861</td>\n",
       "    </tr>\n",
       "    <tr>\n",
       "      <th>14</th>\n",
       "      <td>Cotulla</td>\n",
       "      <td>835172</td>\n",
       "      <td>2286222.7</td>\n",
       "      <td>50740752.2</td>\n",
       "      <td>25.461477</td>\n",
       "      <td>83.722431</td>\n",
       "      <td>574.925042</td>\n",
       "    </tr>\n",
       "    <tr>\n",
       "      <th>15</th>\n",
       "      <td>Beeville</td>\n",
       "      <td>693198</td>\n",
       "      <td>1496558.6</td>\n",
       "      <td>30447976.3</td>\n",
       "      <td>36.657244</td>\n",
       "      <td>78.611862</td>\n",
       "      <td>394.243069</td>\n",
       "    </tr>\n",
       "    <tr>\n",
       "      <th>16</th>\n",
       "      <td>Edinburg</td>\n",
       "      <td>693198</td>\n",
       "      <td>1500878.8</td>\n",
       "      <td>30756435.2</td>\n",
       "      <td>36.657244</td>\n",
       "      <td>72.296556</td>\n",
       "      <td>394.243069</td>\n",
       "    </tr>\n",
       "    <tr>\n",
       "      <th>17</th>\n",
       "      <td>Frederickburg</td>\n",
       "      <td>835172</td>\n",
       "      <td>2014277.4</td>\n",
       "      <td>43445328.3</td>\n",
       "      <td>25.461477</td>\n",
       "      <td>65.790945</td>\n",
       "      <td>574.925042</td>\n",
       "    </tr>\n",
       "  </tbody>\n",
       "</table>\n",
       "</div>"
      ],
      "text/plain": [
       "          stn_loc   wf_loc    duration     distance        score  \\\n",
       "0            Cass  8859652  14810063.0  266997288.5  3383.920173   \n",
       "1            Polk  6670461   9330413.7  187903097.2  2052.206259   \n",
       "2        Angelina  6670461   8416780.9  158367560.6  2052.206259   \n",
       "3         Lubbock  1823183   8520076.3  198390937.0   319.209448   \n",
       "4       Brownwood  2408119   6162969.0  127749239.5   361.938050   \n",
       "5       Childress  1823183   4324328.1   92945189.4   319.209448   \n",
       "6         Midland  1451371   5057139.1  101900525.7   232.860634   \n",
       "7     Burkburnett  2408119   5972578.3  126386422.0   361.938050   \n",
       "8          Merkel  2408119   4732869.8  101124271.8   361.938050   \n",
       "9      San Angelo  1451371   4653549.0   92249244.2   232.860634   \n",
       "10  Fort Stockton  1451371   4308268.5   90688582.9   232.860634   \n",
       "11       Amarillo  1823183   2523249.0   53969220.8   319.209448   \n",
       "12          Dumas  1823183   3028900.0   67698817.7   319.209448   \n",
       "13  Mineral Wells  1390959   2378187.4   50261167.9   123.001228   \n",
       "14        Cotulla   835172   2286222.7   50740752.2    25.461477   \n",
       "15       Beeville   693198   1496558.6   30447976.3    36.657244   \n",
       "16       Edinburg   693198   1500878.8   30756435.2    36.657244   \n",
       "17  Frederickburg   835172   2014277.4   43445328.3    25.461477   \n",
       "\n",
       "    weighted_sum  weighted_mean  \n",
       "0    5354.486937    4113.906389  \n",
       "1    2811.078877    2464.888139  \n",
       "2    2554.424394    2464.888139  \n",
       "3    1731.840881    1261.307208  \n",
       "4    1041.721519    1555.847583  \n",
       "5     855.803264    1261.307208  \n",
       "6     818.574602    1294.677685  \n",
       "7     764.906374    1555.847583  \n",
       "8     750.701081    1555.847583  \n",
       "9     730.602292    1294.677685  \n",
       "10    642.459045    1294.677685  \n",
       "11    360.189130    1261.307208  \n",
       "12    341.479115    1261.307208  \n",
       "13    171.035725     659.473861  \n",
       "14     83.722431     574.925042  \n",
       "15     78.611862     394.243069  \n",
       "16     72.296556     394.243069  \n",
       "17     65.790945     574.925042  "
      ]
     },
     "execution_count": 254,
     "metadata": {},
     "output_type": "execute_result"
    }
   ],
   "source": [
    "stn_loc.groupby('stn_loc').sum().sort_values(by = 'weighted_sum',ascending = False).reset_index()"
   ]
  },
  {
   "cell_type": "code",
   "execution_count": 251,
   "metadata": {},
   "outputs": [
    {
     "data": {
      "text/plain": [
       "<AxesSubplot:xlabel='stn_loc'>"
      ]
     },
     "execution_count": 251,
     "metadata": {},
     "output_type": "execute_result"
    },
    {
     "data": {
      "image/png": "[encoded data removed]",
      "text/plain": [
       "<Figure size 1152x720 with 1 Axes>"
      ]
     },
     "metadata": {
      "needs_background": "light"
     },
     "output_type": "display_data"
    }
   ],
   "source": [
    "stn_loc.groupby('stn_loc').sum().sort_values(by = 'weighted_sum',ascending = False).reset_index().plot(kind = 'bar',\n",
    "                                                                                                       x = 'stn_loc',\n",
    "                                                                                                       y = 'weighted_sum',\n",
    "                                                                                                       figsize = (16,10))"
   ]
  }
 ],
 "metadata": {
  "kernelspec": {
   "display_name": "Python 3",
   "language": "python",
   "name": "python3"
  },
  "language_info": {
   "codemirror_mode": {
    "name": "ipython",
    "version": 3
   },
   "file_extension": ".py",
   "mimetype": "text/x-python",
   "name": "python",
   "nbconvert_exporter": "python",
   "pygments_lexer": "ipython3",
   "version": "3.7.6"
  }
 },
 "nbformat": 4,
 "nbformat_minor": 4
}
